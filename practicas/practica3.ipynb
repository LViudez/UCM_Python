{
  "cells": [
    {
      "cell_type": "markdown",
      "metadata": {
        "id": "view-in-github",
        "colab_type": "text"
      },
      "source": [
        "<a href=\"https://colab.research.google.com/github/LViudez/UCM_Python/blob/main/practicas/practica3.ipynb\" target=\"_parent\"><img src=\"https://colab.research.google.com/assets/colab-badge.svg\" alt=\"Open In Colab\"/></a>"
      ]
    },
    {
      "cell_type": "markdown",
      "id": "8b40af46",
      "metadata": {
        "id": "8b40af46"
      },
      "source": [
        "# Práctica 3\n",
        "* Puede resolver aquí los ejercicios abriendo una celda después de cada uno de los enunciados.  \n",
        "* Por favor, documente la solución de los ejercicios añadiendo suficientes **comentarios** del programador que expliquen el código."
      ]
    },
    {
      "cell_type": "markdown",
      "id": "90a31d0f",
      "metadata": {
        "id": "90a31d0f"
      },
      "source": [
        "## Ejercicio 3.1. Trabajar con un DataSet\n",
        "* Obtener un dataset, preferiblemente con datos financieros, actuariales, económicos o estadísticos.\n",
        "* Crear un modelo de análisis de los datos, utilizando las librerías principales para el análisis de datos, por ejemplo:\n",
        "    - NumPy\n",
        "    - Pandas\n",
        "    - Matplotlib"
      ]
    },
    {
      "cell_type": "code",
      "source": [
        "!git clone https://github.com/LViudez/UCM_Python.git\n",
        "\n",
        "import pandas as pd\n",
        "import plotly.graph_objects as go\n",
        "\n",
        "path = 'UCM_Python/practicas/Dtos_temp_CO2.xlsx' # Ruta del archivo\n",
        "Dc = pd.read_excel(path, sheet_name= 'Data') # Variable a la que hemos asociado el DataFrame para luego tratarla\n",
        "\n",
        "Dc.head()"
      ],
      "metadata": {
        "id": "2dw1d1jsq8yr",
        "outputId": "7c1f3424-ceed-4fe5-fe39-89d6cb73c4c1",
        "colab": {
          "base_uri": "https://localhost:8080/",
          "height": 224
        }
      },
      "id": "2dw1d1jsq8yr",
      "execution_count": 4,
      "outputs": [
        {
          "output_type": "stream",
          "name": "stdout",
          "text": [
            "fatal: destination path 'UCM_Python' already exists and is not an empty directory.\n"
          ]
        },
        {
          "output_type": "execute_result",
          "data": {
            "text/plain": [
              "   Años      China    Germany     Japan     Spain  United Arab Emirates  \\\n",
              "0  1980  1494.4959  1100.0660  944.8686  213.9119               36.8234   \n",
              "1  1981  1476.4879  1048.5234  926.8355  206.0962               36.7669   \n",
              "2  1982  1606.5850  1015.7339  897.4078  208.5985               36.7528   \n",
              "3  1983  1694.2168  1011.6049  880.9094  203.4351               35.2205   \n",
              "4  1984  1844.8280  1033.2446  937.0699  197.6672               46.1556   \n",
              "\n",
              "   United States of America  Temp_Max_Anual_Madrid  \n",
              "0                 4808.2958                  40.12  \n",
              "1                 4686.1715                  38.51  \n",
              "2                 4447.0799                  38.04  \n",
              "3                 4429.1867                  39.90  \n",
              "4                 4661.9209                  40.42  "
            ],
            "text/html": [
              "\n",
              "  <div id=\"df-c1a1f386-6c94-4ce2-ae07-65fc6efe3320\">\n",
              "    <div class=\"colab-df-container\">\n",
              "      <div>\n",
              "<style scoped>\n",
              "    .dataframe tbody tr th:only-of-type {\n",
              "        vertical-align: middle;\n",
              "    }\n",
              "\n",
              "    .dataframe tbody tr th {\n",
              "        vertical-align: top;\n",
              "    }\n",
              "\n",
              "    .dataframe thead th {\n",
              "        text-align: right;\n",
              "    }\n",
              "</style>\n",
              "<table border=\"1\" class=\"dataframe\">\n",
              "  <thead>\n",
              "    <tr style=\"text-align: right;\">\n",
              "      <th></th>\n",
              "      <th>Años</th>\n",
              "      <th>China</th>\n",
              "      <th>Germany</th>\n",
              "      <th>Japan</th>\n",
              "      <th>Spain</th>\n",
              "      <th>United Arab Emirates</th>\n",
              "      <th>United States of America</th>\n",
              "      <th>Temp_Max_Anual_Madrid</th>\n",
              "    </tr>\n",
              "  </thead>\n",
              "  <tbody>\n",
              "    <tr>\n",
              "      <th>0</th>\n",
              "      <td>1980</td>\n",
              "      <td>1494.4959</td>\n",
              "      <td>1100.0660</td>\n",
              "      <td>944.8686</td>\n",
              "      <td>213.9119</td>\n",
              "      <td>36.8234</td>\n",
              "      <td>4808.2958</td>\n",
              "      <td>40.12</td>\n",
              "    </tr>\n",
              "    <tr>\n",
              "      <th>1</th>\n",
              "      <td>1981</td>\n",
              "      <td>1476.4879</td>\n",
              "      <td>1048.5234</td>\n",
              "      <td>926.8355</td>\n",
              "      <td>206.0962</td>\n",
              "      <td>36.7669</td>\n",
              "      <td>4686.1715</td>\n",
              "      <td>38.51</td>\n",
              "    </tr>\n",
              "    <tr>\n",
              "      <th>2</th>\n",
              "      <td>1982</td>\n",
              "      <td>1606.5850</td>\n",
              "      <td>1015.7339</td>\n",
              "      <td>897.4078</td>\n",
              "      <td>208.5985</td>\n",
              "      <td>36.7528</td>\n",
              "      <td>4447.0799</td>\n",
              "      <td>38.04</td>\n",
              "    </tr>\n",
              "    <tr>\n",
              "      <th>3</th>\n",
              "      <td>1983</td>\n",
              "      <td>1694.2168</td>\n",
              "      <td>1011.6049</td>\n",
              "      <td>880.9094</td>\n",
              "      <td>203.4351</td>\n",
              "      <td>35.2205</td>\n",
              "      <td>4429.1867</td>\n",
              "      <td>39.90</td>\n",
              "    </tr>\n",
              "    <tr>\n",
              "      <th>4</th>\n",
              "      <td>1984</td>\n",
              "      <td>1844.8280</td>\n",
              "      <td>1033.2446</td>\n",
              "      <td>937.0699</td>\n",
              "      <td>197.6672</td>\n",
              "      <td>46.1556</td>\n",
              "      <td>4661.9209</td>\n",
              "      <td>40.42</td>\n",
              "    </tr>\n",
              "  </tbody>\n",
              "</table>\n",
              "</div>\n",
              "      <button class=\"colab-df-convert\" onclick=\"convertToInteractive('df-c1a1f386-6c94-4ce2-ae07-65fc6efe3320')\"\n",
              "              title=\"Convert this dataframe to an interactive table.\"\n",
              "              style=\"display:none;\">\n",
              "        \n",
              "  <svg xmlns=\"http://www.w3.org/2000/svg\" height=\"24px\"viewBox=\"0 0 24 24\"\n",
              "       width=\"24px\">\n",
              "    <path d=\"M0 0h24v24H0V0z\" fill=\"none\"/>\n",
              "    <path d=\"M18.56 5.44l.94 2.06.94-2.06 2.06-.94-2.06-.94-.94-2.06-.94 2.06-2.06.94zm-11 1L8.5 8.5l.94-2.06 2.06-.94-2.06-.94L8.5 2.5l-.94 2.06-2.06.94zm10 10l.94 2.06.94-2.06 2.06-.94-2.06-.94-.94-2.06-.94 2.06-2.06.94z\"/><path d=\"M17.41 7.96l-1.37-1.37c-.4-.4-.92-.59-1.43-.59-.52 0-1.04.2-1.43.59L10.3 9.45l-7.72 7.72c-.78.78-.78 2.05 0 2.83L4 21.41c.39.39.9.59 1.41.59.51 0 1.02-.2 1.41-.59l7.78-7.78 2.81-2.81c.8-.78.8-2.07 0-2.86zM5.41 20L4 18.59l7.72-7.72 1.47 1.35L5.41 20z\"/>\n",
              "  </svg>\n",
              "      </button>\n",
              "      \n",
              "  <style>\n",
              "    .colab-df-container {\n",
              "      display:flex;\n",
              "      flex-wrap:wrap;\n",
              "      gap: 12px;\n",
              "    }\n",
              "\n",
              "    .colab-df-convert {\n",
              "      background-color: #E8F0FE;\n",
              "      border: none;\n",
              "      border-radius: 50%;\n",
              "      cursor: pointer;\n",
              "      display: none;\n",
              "      fill: #1967D2;\n",
              "      height: 32px;\n",
              "      padding: 0 0 0 0;\n",
              "      width: 32px;\n",
              "    }\n",
              "\n",
              "    .colab-df-convert:hover {\n",
              "      background-color: #E2EBFA;\n",
              "      box-shadow: 0px 1px 2px rgba(60, 64, 67, 0.3), 0px 1px 3px 1px rgba(60, 64, 67, 0.15);\n",
              "      fill: #174EA6;\n",
              "    }\n",
              "\n",
              "    [theme=dark] .colab-df-convert {\n",
              "      background-color: #3B4455;\n",
              "      fill: #D2E3FC;\n",
              "    }\n",
              "\n",
              "    [theme=dark] .colab-df-convert:hover {\n",
              "      background-color: #434B5C;\n",
              "      box-shadow: 0px 1px 3px 1px rgba(0, 0, 0, 0.15);\n",
              "      filter: drop-shadow(0px 1px 2px rgba(0, 0, 0, 0.3));\n",
              "      fill: #FFFFFF;\n",
              "    }\n",
              "  </style>\n",
              "\n",
              "      <script>\n",
              "        const buttonEl =\n",
              "          document.querySelector('#df-c1a1f386-6c94-4ce2-ae07-65fc6efe3320 button.colab-df-convert');\n",
              "        buttonEl.style.display =\n",
              "          google.colab.kernel.accessAllowed ? 'block' : 'none';\n",
              "\n",
              "        async function convertToInteractive(key) {\n",
              "          const element = document.querySelector('#df-c1a1f386-6c94-4ce2-ae07-65fc6efe3320');\n",
              "          const dataTable =\n",
              "            await google.colab.kernel.invokeFunction('convertToInteractive',\n",
              "                                                     [key], {});\n",
              "          if (!dataTable) return;\n",
              "\n",
              "          const docLinkHtml = 'Like what you see? Visit the ' +\n",
              "            '<a target=\"_blank\" href=https://colab.research.google.com/notebooks/data_table.ipynb>data table notebook</a>'\n",
              "            + ' to learn more about interactive tables.';\n",
              "          element.innerHTML = '';\n",
              "          dataTable['output_type'] = 'display_data';\n",
              "          await google.colab.output.renderOutput(dataTable, element);\n",
              "          const docLink = document.createElement('div');\n",
              "          docLink.innerHTML = docLinkHtml;\n",
              "          element.appendChild(docLink);\n",
              "        }\n",
              "      </script>\n",
              "    </div>\n",
              "  </div>\n",
              "  "
            ]
          },
          "metadata": {},
          "execution_count": 4
        }
      ]
    },
    {
      "cell_type": "markdown",
      "id": "90020a63",
      "metadata": {
        "id": "90020a63"
      },
      "source": [
        "## Ejercicio 3.2. Gráfico histórico de un índice o valor bursátil\n",
        "* Descargar un archivo con formato ***csv*** de la página de Yahoo Finanzas con la cotización de:\n",
        " - un índice (IBEX, NASDAQ, ...) o\n",
        " - valor bursátil,\n",
        "* o bien, de otra fuente disponible.\n",
        "* Crear un procedimiento que lea el fichero y finalmente obtenga un gráfico del histórico del índice o valor.\n",
        "* Tomar el periodo histórico más largo posible.\n",
        "* Alternativamente o adicionalmente, si disponemos de una API o fuente de información diferente de un *csv* descargado de forma manual, también se podría realizar de una forma más automatizada."
      ]
    },
    {
      "cell_type": "code",
      "source": [
        "!git clone https://github.com/LViudez/UCM_Python.git\n",
        "#%cd UCM_Python/practicas -- De esta forma también funcionaría, para ello, en path solo se pondría el nombre del archivo que queremos tratar\n",
        "\n",
        "import pandas as pd\n",
        "import plotly.graph_objects as go\n",
        "\n",
        "path = 'UCM_Python/practicas/IAG.L.csv' # Ruta del archivo\n",
        "Datos_Iberia = pd.read_csv(path, sep = ',') # Variable a la que hemos asociado el DataFrame para luego tratarla\n",
        "\n",
        "#Construcción de un OLHC chart con promedio móvil exponencial\n",
        "\n",
        "Datos_Iberia['EMA5'] = Datos_Iberia.Close.ewm(span = 5, adjust=False).mean() # Calculamos la media móvil exponencial de 5 días y se añada al DataFrame como una columna más llamada EMA5\n",
        "Datos_Iberia['EMA20'] = Datos_Iberia.Close.ewm(span = 20, adjust=False).mean() # Calculamos la media móvil exponencial de 20 días y se añada al DataFrame como una columna más llamada EMA20\n",
        "\n",
        "\n",
        "print(Datos_Iberia) # Mostramos el DataFrame\n",
        "\n",
        "Graph = go.Figure(data=go.Ohlc(x=Datos_Iberia['Date'],    # Creamos el la gráfica OLHC (open, high, low and close)\n",
        "                  open = Datos_Iberia['Open'],\n",
        "                  high = Datos_Iberia['High'],\n",
        "                  low = Datos_Iberia['Low'],\n",
        "                  close = Datos_Iberia['Close'], name = \"OHLC\"))\n",
        "\n",
        "Graph.add_scatter(x=Datos_Iberia.Date, y=Datos_Iberia.EMA5, line=dict(color='orange', width=1), name=\"EMA5\")   # Añadimos a la gráfica OLHC la media móvil exponencial de 5 días\n",
        "Graph.add_scatter(x=Datos_Iberia.Date, y=Datos_Iberia.EMA20, line=dict(color='green', width=1), name=\"EMA20\")  # Añadimos a la gráfica OLHC la media móvil exponencial de 20 días\n",
        "\n",
        "Graph.show() #Mostramos la gráfica, donde se aprecia la fuerte caída que tuvo Iberia causada por la pandemia.\n"
      ],
      "metadata": {
        "id": "nxAydHK44B8T"
      },
      "id": "nxAydHK44B8T",
      "execution_count": null,
      "outputs": []
    },
    {
      "cell_type": "markdown",
      "id": "42322381",
      "metadata": {
        "id": "42322381"
      },
      "source": [
        "## Ejercicio 3.3. Trabajar con la Librería openpyxl\n",
        "* Crear una aplicación programada en Python que permita interactuar con la **hoja de cálculo** tanto para lectura, como para escritura.\n",
        "* Utilice la Librería openpyxl, u otra que considere adecuada para interactuar con hoja de cálculo"
      ]
    },
    {
      "cell_type": "code",
      "source": [
        "from openpyxl.workbook import workbook\n",
        "!git clone https://github.com/LViudez/UCM_Python.git\n",
        "%cd UCM_Python/practicas  #Nos conectamos a la carpeta donde tenemos el fichero que queremos\n",
        "\n",
        "import os\n",
        "os.getcwd() # para saber el directorio de trabajo actual\n",
        "\n",
        "import openpyxl # importamos la librería openpyxl\n",
        "\n",
        "wb=openpyxl.load_workbook('Facturas.xlsx') # wb es nuestro workbook \"Facturas\"\n",
        "\n",
        "\n",
        "H_Factura = wb.sheetnames [0]     # Creamos una variable con el nombre de la hoja que queremos\n",
        "\n",
        "ws1=wb[H_Factura]   # creamos la variable ws1 para recoger el objeto de la Facturas\n",
        "\n",
        "#Creamos las hojas que nos serviran para dividir la muestra y los encabezados\n",
        "\n",
        "ws2=wb.create_sheet(title=\"On_time\")\n",
        "ws3=wb.create_sheet(title=\"Out_of_time\")\n",
        "\n",
        "Encabezados = ['ID_Factura','Proveedor','Forma_pago','Fecha_cobro','Cuantia'] #Lista que contiene los nombres de los encabezados\n",
        "n = 1 # Variable contadora\n",
        "\n",
        "for i in Encabezados:\n",
        "  ws2.cell(row=1,column=n, value=i)\n",
        "  ws3.cell(row=1,column=n, value=i)\n",
        "  n += 1\n",
        "\n",
        "ws2.cell(row=1,column=6).value = \"Nota\"\n",
        "ws3.cell(row=1,column=6).value = \"Cuantía_Final\"\n",
        "\n",
        "\n",
        "mr = ws1.max_row #Calculamos el maximo de filas\n",
        "mc = ws1.max_column #Calculamos el maximo de columnas\n",
        "\n",
        "from datetime import date\n",
        "from datetime import datetime\n",
        "\n",
        "hoy = datetime.today()\n",
        "\n",
        "f_ws2 = 2 # Contadoras para las filas de las dos nuevas hojas porque son filas diferentes a la hoja Facturas\n",
        "f_ws3 = 2\n",
        "\n",
        "for i in range (2, mr +1):                #Los que se han pasado de fecha, en la columna \"Cuantía Final\" de la hoja \"Out_of_time\" se indicará la cuantía más el recargo (que es los días que se han excedido por 0.1)\n",
        "  F=ws1.cell(row=i,column=4).value  \n",
        "\n",
        "  if hoy > F:\n",
        "    res= (hoy-F).days\n",
        "    for j in range (1, mc +1):\n",
        "      ws3.cell(row=f_ws3,column=j).value = ws1.cell(row=i,column=j).value  # Se pasa toda la información de la factura, es decir, todas las columnas\n",
        "    ws3.cell(row=f_ws3,column=mc + 1).value = ws1.cell(row=i,column=5).value * (1 + (res*0.1))\n",
        "    f_ws3 += 1\n",
        "\n",
        "\n",
        "  if hoy < F:                              #Los que no se han pasado de fecha, en la columna \"Nota\" de la hoja \"On_time\" se indicará los días que quedan para que paguen.\n",
        "    res= (F-hoy).days\n",
        "    for j in range (1, mc +1):\n",
        "      ws2.cell(row=f_ws2,column=j).value = ws1.cell(row=i,column=j).value # Se pasa toda la información de la factura, es decir, todas las columnas\n",
        "    ws2.cell(row=f_ws2,column=mc + 1).value = f'Le quedan {res} días para realizar el pago'\n",
        "\n",
        "    f_ws2 += 1\n",
        "\n",
        "\n",
        "\n",
        "# Para comprobar que todo va bien\n",
        "for i in range (1,5):\n",
        "    print(ws2.cell(row=i,column=1).value, \n",
        "          ws2.cell(row=i,column=2).value, \n",
        "          ws2.cell(row=i,column=3).value,\n",
        "          ws2.cell(row=i,column=4).value,\n",
        "          ws2.cell(row=i,column=5).value,\n",
        "          ws2.cell(row=i,column=6).value)\n",
        "print('='*30)\n",
        "for i in range (1,5):\n",
        "    print(ws3.cell(row=i,column=1).value, \n",
        "          ws3.cell(row=i,column=2).value, \n",
        "          ws3.cell(row=i,column=3).value,\n",
        "          ws3.cell(row=i,column=4).value,\n",
        "          ws3.cell(row=i,column=5).value,\n",
        "          ws3.cell(row=i,column=6).value)\n",
        "\n",
        "#Guardamos\n",
        "wb.save('Fact_div.xlxs')\n"
      ],
      "metadata": {
        "id": "O-X6Ja2s_oeg"
      },
      "id": "O-X6Ja2s_oeg",
      "execution_count": null,
      "outputs": []
    },
    {
      "cell_type": "markdown",
      "id": "9adbef23",
      "metadata": {
        "id": "9adbef23"
      },
      "source": [
        "## Ejercicio 3.4. Librería actuarial\n",
        "* Utilizando la librería actuarial **pyliferisk**, o cualquier otra que considere adecuada en este campo, cree un caso donde se muestren diferentes cálculos y procedimientos que se puedan realizar con ella.\n",
        "* Alternativamente, puede realizar su propia librería actuarial y probarla creando ejemplos prácticos. En este caso, no olvide documentar la funcionalidad de los métodos que programe, utilizando POO."
      ]
    },
    {
      "cell_type": "markdown",
      "id": "37241230",
      "metadata": {
        "id": "37241230"
      },
      "source": [
        "## Ejercicio 3.5. Trabajar con una API\n",
        "* Localizar una API con datos que puedan resultar de interés.\n",
        "* Crear una aplicación programada en Python que utilice los datos de la API, preferiblemente con datos en tiempo real.\n",
        "* Mostrar la información que nuestra aplicación pueda procesar, según ciertos filtros, que faciliten el uso de la API."
      ]
    },
    {
      "cell_type": "markdown",
      "id": "67115e56",
      "metadata": {
        "id": "67115e56"
      },
      "source": [
        "## Ejercicio 3.6. Página web con Flask\n",
        "* Crear una aplicación de página web programada en Python con el framework Flask.\n",
        "* Puede desplegarla en alguna plataforma gratuita como, por ejemplo, [Pythonanywhere](https://www.pythonanywhere.com) o [Heroku](https://www.heroku.com)."
      ]
    },
    {
      "cell_type": "markdown",
      "id": "7e80d728",
      "metadata": {
        "id": "7e80d728"
      },
      "source": [
        "## Ejercicio 3.7. Bot de Telegram que proporciona cotizaciones en tiempo real\n",
        "Crear un Bot de Telegram programado en Python que realizando **Web Scraping** nos pueda dar precios en tiempo real de valores cotizados en bolsa, o en mercados financieros internacionales.  \n",
        "Adjuntar capturas de pantalla mostrando el funcionamiento del bot en Telegram."
      ]
    },
    {
      "cell_type": "markdown",
      "metadata": {
        "id": "ovrHbDBWZHwg"
      },
      "source": [
        "## Ejercicio 3.8. Estrategias de Trading\n",
        "* Elegir una compañía cotizada y realizar con ella diferentes estrategias de trading, con gráficos e indicadores bursátiles.\n",
        "* Puede utilizar la librería TA-Lib u otro sistema para efectuar el análisis."
      ],
      "id": "ovrHbDBWZHwg"
    },
    {
      "cell_type": "markdown",
      "source": [
        "## Ejercicio 3.9. Finanzas\n",
        "Estudie casos en el campo de las finanzas:\n",
        "* VAN y TIR\n",
        "* Cuadro de amortización de préstamos\n",
        "* Operativa con activos de Renta Fija: bonos\n",
        "* *Duration*\n",
        "* Estructura Temporal de los Tipos de Interés (ETTI)\n",
        "* Forwards sobre tipos de interés\n",
        "* Arbitraje\n",
        "* Random Walk en una y dos dimensiones\n",
        "* ... / ...\n"
      ],
      "metadata": {
        "id": "wpAipLNAtJvT"
      },
      "id": "wpAipLNAtJvT"
    },
    {
      "cell_type": "markdown",
      "source": [
        "## Ejercicio 3.10. Valoración de opciones financieras\n",
        "* Método de valoración de opciones europeas mediante arbol binomial\n",
        "* Método de Black-Scholes\n",
        "* Convergencia de ambos métodos\n",
        "* Gráfico de convergencia\n",
        "* Arbitraje en caso de no cumplirse la paridad Put-Call"
      ],
      "metadata": {
        "id": "aGpxuM7_unko"
      },
      "id": "aGpxuM7_unko"
    }
  ],
  "metadata": {
    "kernelspec": {
      "display_name": "Python 3 (ipykernel)",
      "language": "python",
      "name": "python3"
    },
    "language_info": {
      "codemirror_mode": {
        "name": "ipython",
        "version": 3
      },
      "file_extension": ".py",
      "mimetype": "text/x-python",
      "name": "python",
      "nbconvert_exporter": "python",
      "pygments_lexer": "ipython3",
      "version": "3.8.11"
    },
    "colab": {
      "name": "practica3.ipynb",
      "provenance": [],
      "include_colab_link": true
    }
  },
  "nbformat": 4,
  "nbformat_minor": 5
}