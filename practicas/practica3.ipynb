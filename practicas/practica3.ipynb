{
  "cells": [
    {
      "cell_type": "markdown",
      "metadata": {
        "id": "view-in-github",
        "colab_type": "text"
      },
      "source": [
        "<a href=\"https://colab.research.google.com/github/LViudez/UCM_Python/blob/main/practicas/practica3.ipynb\" target=\"_parent\"><img src=\"https://colab.research.google.com/assets/colab-badge.svg\" alt=\"Open In Colab\"/></a>"
      ]
    },
    {
      "cell_type": "markdown",
      "id": "8b40af46",
      "metadata": {
        "id": "8b40af46"
      },
      "source": [
        "# Práctica 3\n",
        "* Puede resolver aquí los ejercicios abriendo una celda después de cada uno de los enunciados.  \n",
        "* Por favor, documente la solución de los ejercicios añadiendo suficientes **comentarios** del programador que expliquen el código."
      ]
    },
    {
      "cell_type": "markdown",
      "id": "90a31d0f",
      "metadata": {
        "id": "90a31d0f"
      },
      "source": [
        "## Ejercicio 3.1. Trabajar con un DataSet\n",
        "* Obtener un dataset, preferiblemente con datos financieros, actuariales, económicos o estadísticos.\n",
        "* Crear un modelo de análisis de los datos, utilizando las librerías principales para el análisis de datos, por ejemplo:\n",
        "    - NumPy\n",
        "    - Pandas\n",
        "    - Matplotlib"
      ]
    },
    {
      "cell_type": "markdown",
      "id": "90020a63",
      "metadata": {
        "id": "90020a63"
      },
      "source": [
        "## Ejercicio 3.2. Gráfico histórico de un índice o valor bursátil\n",
        "* Descargar un archivo con formato ***csv*** de la página de Yahoo Finanzas con la cotización de:\n",
        " - un índice (IBEX, NASDAQ, ...) o\n",
        " - valor bursátil,\n",
        "* o bien, de otra fuente disponible.\n",
        "* Crear un procedimiento que lea el fichero y finalmente obtenga un gráfico del histórico del índice o valor.\n",
        "* Tomar el periodo histórico más largo posible.\n",
        "* Alternativamente o adicionalmente, si disponemos de una API o fuente de información diferente de un *csv* descargado de forma manual, también se podría realizar de una forma más automatizada."
      ]
    },
    {
      "cell_type": "code",
      "source": [
        "!git clone https://github.com/LViudez/UCM_Python.git\n",
        "#%cd UCM_Python/practicas -- De esta forma también funcionaría, para ello, en path solo se pondría el nombre del archivo que queremos tratar\n",
        "\n",
        "import pandas as pd\n",
        "import plotly.graph_objects as go\n",
        "\n",
        "path = 'UCM_Python/practicas/IAG.L.csv' # Ruta del archivo\n",
        "Datos_Iberia = pd.read_csv(path, sep = ',') # Variable a la que hemos asociado el DataFrame para luego tratarla\n",
        "\n",
        "#Construcción de un OLHC chart con promedio móvil exponencial\n",
        "\n",
        "Datos_Iberia['EMA5'] = Datos_Iberia.Close.ewm(span = 5, adjust=False).mean() # Calculamos la media móvil exponencial de 5 días y se añada al DataFrame como una columna más llamada EMA5\n",
        "Datos_Iberia['EMA20'] = Datos_Iberia.Close.ewm(span = 20, adjust=False).mean() # Calculamos la media móvil exponencial de 20 días y se añada al DataFrame como una columna más llamada EMA20\n",
        "\n",
        "\n",
        "print(Datos_Iberia) # Mostramos el DataFrame\n",
        "\n",
        "Graph = go.Figure(data=go.Ohlc(x=Datos_Iberia['Date'],    # Creamos el la gráfica OLHC (open, high, low and close)\n",
        "                  open = Datos_Iberia['Open'],\n",
        "                  high = Datos_Iberia['High'],\n",
        "                  low = Datos_Iberia['Low'],\n",
        "                  close = Datos_Iberia['Close'], name = \"OHLC\"))\n",
        "\n",
        "Graph.add_scatter(x=Datos_Iberia.Date, y=Datos_Iberia.EMA5, line=dict(color='orange', width=1), name=\"EMA5\")   # Añadimos a la gráfica OLHC la media móvil exponencial de 5 días\n",
        "Graph.add_scatter(x=Datos_Iberia.Date, y=Datos_Iberia.EMA20, line=dict(color='green', width=1), name=\"EMA20\")  # Añadimos a la gráfica OLHC la media móvil exponencial de 20 días\n",
        "\n",
        "Graph.show() #Mostramos la gráfica, donde se aprecia la fuerte caída que tuvo Iberia causada por la pandemia.\n"
      ],
      "metadata": {
        "id": "nxAydHK44B8T"
      },
      "id": "nxAydHK44B8T",
      "execution_count": null,
      "outputs": []
    },
    {
      "cell_type": "markdown",
      "id": "42322381",
      "metadata": {
        "id": "42322381"
      },
      "source": [
        "## Ejercicio 3.3. Trabajar con la Librería openpyxl\n",
        "* Crear una aplicación programada en Python que permita interactuar con la **hoja de cálculo** tanto para lectura, como para escritura.\n",
        "* Utilice la Librería openpyxl, u otra que considere adecuada para interactuar con hoja de cálculo"
      ]
    },
    {
      "cell_type": "code",
      "source": [
        "from openpyxl.workbook import workbook\n",
        "!git clone https://github.com/LViudez/UCM_Python.git\n",
        "%cd UCM_Python/practicas  #Nos conectamos a la carpeta donde tenemos el fichero que queremos\n",
        "\n",
        "import os\n",
        "os.getcwd() # para saber el directorio de trabajo actual\n",
        "\n",
        "import openpyxl # importamos la librería openpyxl\n",
        "\n",
        "wb=openpyxl.load_workbook('Facturas.xlsx') # wb es nuestro workbook \"Facturas\"\n",
        "\n",
        "\n",
        "H_Factura = wb.sheetnames [0]     # Creamos una variable con el nombre de la hoja que queremos\n",
        "\n",
        "ws1=wb[H_Factura]   # creamos la variable ws1 para recoger el objeto de la Facturas\n",
        "\n",
        "#Creamos las hojas que nos serviran para dividir la muestra y los encabezados\n",
        "\n",
        "ws2=wb.create_sheet(title=\"On_time\")\n",
        "ws3=wb.create_sheet(title=\"Out_of_time\")\n",
        "\n",
        "Encabezados = ['ID_Factura','Proveedor','Forma_pago','Fecha_cobro','Cuantia'] #Lista que contiene los nombres de los encabezados\n",
        "n = 1 # Variable contadora\n",
        "\n",
        "for i in Encabezados:\n",
        "  ws2.cell(row=1,column=n, value=i)\n",
        "  ws3.cell(row=1,column=n, value=i)\n",
        "  n += 1\n",
        "\n",
        "ws2.cell(row=1,column=6).value = \"Nota\"\n",
        "ws3.cell(row=1,column=6).value = \"Cuantía Final\"\n",
        "\n",
        "\n",
        "mr = ws1.max_row #Calculamos el maximo de filas\n",
        "mc = ws1.max_column #Calculamos el maximo de columnas\n",
        "\n",
        "from datetime import date\n",
        "from datetime import datetime\n",
        "\n",
        "hoy = datetime.today()\n",
        "\n",
        "f_ws2 = 2 # Contadoras para las filas de las dos nuevas hojas porque son filas diferentes a la hoja Facturas\n",
        "f_ws3 = 2\n",
        "\n",
        "for i in range (2, mr +1):                #Los que se han pasado de fecha, en la columna \"Cuantía Final\" de la hoja \"Out_of_time\" se indicará la cuantía más el recargo (que es los días que se han excedido por 0.1)\n",
        "  F=ws1.cell(row=i,column=4).value  \n",
        "\n",
        "  if hoy > F:\n",
        "    res= (hoy-F).days\n",
        "    for j in range (1, mc +1):\n",
        "      ws3.cell(row=f_ws3,column=j).value = ws1.cell(row=i,column=j).value  # Se pasa toda la información de la factura, es decir, todas las columnas\n",
        "    ws3.cell(row=f_ws3,column=mc + 1).value = ws1.cell(row=i,column=5).value * (1 + (res*0.1))\n",
        "    f_ws3 += 1\n",
        "\n",
        "\n",
        "  if hoy < F:                              #Los que no se han pasado de fecha, en la columna \"Nota\" de la hoja \"On_time\" se indicará los días que quedan para que paguen.\n",
        "    res= (F-hoy).days\n",
        "    for j in range (1, mc +1):\n",
        "      ws2.cell(row=f_ws2,column=j).value = ws1.cell(row=i,column=j).value # Se pasa toda la información de la factura, es decir, todas las columnas\n",
        "    ws2.cell(row=f_ws2,column=mc + 1).value = f'Le quedan {res} días para realizar el pago'\n",
        "\n",
        "    f_ws2 += 1\n",
        "\n",
        "\n",
        "\n",
        "# Para comprobar que todo va bien\n",
        "print(ws3['A1'].value)\n",
        "print(ws3['A2'].value)\n",
        "print(ws3['A3'].value)\n",
        "print(ws3['F1'].value)\n",
        "print(ws3['F2'].value)\n",
        "print(ws3['F3'].value)\n",
        "print(ws3['A10'].value)\n",
        "print(ws3['F10'].value)\n",
        "print('='*30)\n",
        "print(ws2['A1'].value)\n",
        "print(ws2['A2'].value)\n",
        "print(ws2['F1'].value)\n",
        "print(ws2['F2'].value)\n",
        "print(ws2['F3'].value)\n",
        "print(ws2['A42'].value)\n",
        "print(ws2['F42'].value)\n",
        "\n",
        "#Guardamos\n",
        "wb.save('Fact_div.xlxs')\n"
      ],
      "metadata": {
        "colab": {
          "base_uri": "https://localhost:8080/"
        },
        "id": "O-X6Ja2s_oeg",
        "outputId": "bd1b6813-1b4f-4f9d-a366-48e1e763fa30"
      },
      "id": "O-X6Ja2s_oeg",
      "execution_count": 115,
      "outputs": [
        {
          "output_type": "stream",
          "name": "stdout",
          "text": [
            "fatal: destination path 'UCM_Python' already exists and is not an empty directory.\n",
            "[Errno 2] No such file or directory: 'UCM_Python/practicas #Nos conectamos a la carpeta donde tenemos el fichero que queremos'\n",
            "/content/UCM_Python/practicas/UCM_Python/practicas/UCM_Python/practicas/UCM_Python/practicas/UCM_Python/practicas\n",
            "ID_Factura\n",
            "001\n",
            "002\n",
            "Cuantía Final\n",
            "180.0\n",
            "340.00000000000006\n",
            "009\n",
            "900.0\n",
            "==============================\n",
            "ID_Factura\n",
            "010\n",
            "Nota\n",
            "Le quedan 0 días para realizar el pago\n",
            "Le quedan 1 días para realizar el pago\n",
            "050\n",
            "Le quedan 40 días para realizar el pago\n"
          ]
        }
      ]
    },
    {
      "cell_type": "markdown",
      "id": "9adbef23",
      "metadata": {
        "id": "9adbef23"
      },
      "source": [
        "## Ejercicio 3.4. Librería actuarial\n",
        "* Utilizando la librería actuarial **pyliferisk**, o cualquier otra que considere adecuada en este campo, cree un caso donde se muestren diferentes cálculos y procedimientos que se puedan realizar con ella.\n",
        "* Alternativamente, puede realizar su propia librería actuarial y probarla creando ejemplos prácticos. En este caso, no olvide documentar la funcionalidad de los métodos que programe, utilizando POO."
      ]
    },
    {
      "cell_type": "markdown",
      "id": "37241230",
      "metadata": {
        "id": "37241230"
      },
      "source": [
        "## Ejercicio 3.5. Trabajar con una API\n",
        "* Localizar una API con datos que puedan resultar de interés.\n",
        "* Crear una aplicación programada en Python que utilice los datos de la API, preferiblemente con datos en tiempo real.\n",
        "* Mostrar la información que nuestra aplicación pueda procesar, según ciertos filtros, que faciliten el uso de la API."
      ]
    },
    {
      "cell_type": "markdown",
      "id": "67115e56",
      "metadata": {
        "id": "67115e56"
      },
      "source": [
        "## Ejercicio 3.6. Página web con Flask\n",
        "* Crear una aplicación de página web programada en Python con el framework Flask.\n",
        "* Puede desplegarla en alguna plataforma gratuita como, por ejemplo, [Pythonanywhere](https://www.pythonanywhere.com) o [Heroku](https://www.heroku.com)."
      ]
    },
    {
      "cell_type": "markdown",
      "id": "7e80d728",
      "metadata": {
        "id": "7e80d728"
      },
      "source": [
        "## Ejercicio 3.7. Bot de Telegram que proporciona cotizaciones en tiempo real\n",
        "Crear un Bot de Telegram programado en Python que realizando **Web Scraping** nos pueda dar precios en tiempo real de valores cotizados en bolsa, o en mercados financieros internacionales.  \n",
        "Adjuntar capturas de pantalla mostrando el funcionamiento del bot en Telegram."
      ]
    },
    {
      "cell_type": "markdown",
      "metadata": {
        "id": "ovrHbDBWZHwg"
      },
      "source": [
        "## Ejercicio 3.8. Estrategias de Trading\n",
        "* Elegir una compañía cotizada y realizar con ella diferentes estrategias de trading, con gráficos e indicadores bursátiles.\n",
        "* Puede utilizar la librería TA-Lib u otro sistema para efectuar el análisis."
      ],
      "id": "ovrHbDBWZHwg"
    },
    {
      "cell_type": "markdown",
      "source": [
        "## Ejercicio 3.9. Finanzas\n",
        "Estudie casos en el campo de las finanzas:\n",
        "* VAN y TIR\n",
        "* Cuadro de amortización de préstamos\n",
        "* Operativa con activos de Renta Fija: bonos\n",
        "* *Duration*\n",
        "* Estructura Temporal de los Tipos de Interés (ETTI)\n",
        "* Forwards sobre tipos de interés\n",
        "* Arbitraje\n",
        "* Random Walk en una y dos dimensiones\n",
        "* ... / ...\n"
      ],
      "metadata": {
        "id": "wpAipLNAtJvT"
      },
      "id": "wpAipLNAtJvT"
    },
    {
      "cell_type": "markdown",
      "source": [
        "## Ejercicio 3.10. Valoración de opciones financieras\n",
        "* Método de valoración de opciones europeas mediante arbol binomial\n",
        "* Método de Black-Scholes\n",
        "* Convergencia de ambos métodos\n",
        "* Gráfico de convergencia\n",
        "* Arbitraje en caso de no cumplirse la paridad Put-Call"
      ],
      "metadata": {
        "id": "aGpxuM7_unko"
      },
      "id": "aGpxuM7_unko"
    }
  ],
  "metadata": {
    "kernelspec": {
      "display_name": "Python 3 (ipykernel)",
      "language": "python",
      "name": "python3"
    },
    "language_info": {
      "codemirror_mode": {
        "name": "ipython",
        "version": 3
      },
      "file_extension": ".py",
      "mimetype": "text/x-python",
      "name": "python",
      "nbconvert_exporter": "python",
      "pygments_lexer": "ipython3",
      "version": "3.8.11"
    },
    "colab": {
      "name": "practica3.ipynb",
      "provenance": [],
      "include_colab_link": true
    }
  },
  "nbformat": 4,
  "nbformat_minor": 5
}