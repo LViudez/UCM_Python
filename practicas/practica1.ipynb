{
  "cells": [
    {
      "cell_type": "markdown",
      "metadata": {
        "id": "view-in-github",
        "colab_type": "text"
      },
      "source": [
        "<a href=\"https://colab.research.google.com/github/LViudez/UCM_Python/blob/main/practicas/practica1.ipynb\" target=\"_parent\"><img src=\"https://colab.research.google.com/assets/colab-badge.svg\" alt=\"Open In Colab\"/></a>"
      ]
    },
    {
      "cell_type": "markdown",
      "id": "8d9dc823",
      "metadata": {
        "id": "8d9dc823"
      },
      "source": [
        "# Práctica 1\n",
        "* Puede resolver aquí los ejercicios abriendo una celda después de cada uno de los enunciados.  \n",
        "* Por favor, documente la solución de los ejercicios añadiendo suficientes **comentarios** del programador que expliquen el código."
      ]
    },
    {
      "cell_type": "markdown",
      "id": "be4f1980",
      "metadata": {
        "id": "be4f1980"
      },
      "source": [
        "## Ejercicio 1.1. Elevar al cuadrado\n",
        "* Imprimir en pantalla el cuadrado de todos los números del 1 al 100, ambos incluidos.\n",
        "* Mostrarlos en forma de columnas. Algo parecido a:\n",
        " - 1 → 1\n",
        " - 2 → 4\n",
        " - 3 → 9\n",
        " - 4 → 16\n",
        " - 5 → 25\n",
        " - ... ... ...\n",
        " - 100 → 10,000"
      ]
    },
    {
      "cell_type": "code",
      "source": [
        "for i in range (1,101):\n",
        "  print(f\"{i} --> {i**2}\")\n"
      ],
      "metadata": {
        "colab": {
          "base_uri": "https://localhost:8080/"
        },
        "id": "3WhrvY6FOVdN",
        "outputId": "69dcd62f-9af2-48d3-c9ad-660e1c424454"
      },
      "id": "3WhrvY6FOVdN",
      "execution_count": null,
      "outputs": [
        {
          "output_type": "stream",
          "name": "stdout",
          "text": [
            "1 --> 1\n",
            "2 --> 4\n",
            "3 --> 9\n",
            "4 --> 16\n",
            "5 --> 25\n",
            "6 --> 36\n",
            "7 --> 49\n",
            "8 --> 64\n",
            "9 --> 81\n",
            "10 --> 100\n",
            "11 --> 121\n",
            "12 --> 144\n",
            "13 --> 169\n",
            "14 --> 196\n",
            "15 --> 225\n",
            "16 --> 256\n",
            "17 --> 289\n",
            "18 --> 324\n",
            "19 --> 361\n",
            "20 --> 400\n",
            "21 --> 441\n",
            "22 --> 484\n",
            "23 --> 529\n",
            "24 --> 576\n",
            "25 --> 625\n",
            "26 --> 676\n",
            "27 --> 729\n",
            "28 --> 784\n",
            "29 --> 841\n",
            "30 --> 900\n",
            "31 --> 961\n",
            "32 --> 1024\n",
            "33 --> 1089\n",
            "34 --> 1156\n",
            "35 --> 1225\n",
            "36 --> 1296\n",
            "37 --> 1369\n",
            "38 --> 1444\n",
            "39 --> 1521\n",
            "40 --> 1600\n",
            "41 --> 1681\n",
            "42 --> 1764\n",
            "43 --> 1849\n",
            "44 --> 1936\n",
            "45 --> 2025\n",
            "46 --> 2116\n",
            "47 --> 2209\n",
            "48 --> 2304\n",
            "49 --> 2401\n",
            "50 --> 2500\n",
            "51 --> 2601\n",
            "52 --> 2704\n",
            "53 --> 2809\n",
            "54 --> 2916\n",
            "55 --> 3025\n",
            "56 --> 3136\n",
            "57 --> 3249\n",
            "58 --> 3364\n",
            "59 --> 3481\n",
            "60 --> 3600\n",
            "61 --> 3721\n",
            "62 --> 3844\n",
            "63 --> 3969\n",
            "64 --> 4096\n",
            "65 --> 4225\n",
            "66 --> 4356\n",
            "67 --> 4489\n",
            "68 --> 4624\n",
            "69 --> 4761\n",
            "70 --> 4900\n",
            "71 --> 5041\n",
            "72 --> 5184\n",
            "73 --> 5329\n",
            "74 --> 5476\n",
            "75 --> 5625\n",
            "76 --> 5776\n",
            "77 --> 5929\n",
            "78 --> 6084\n",
            "79 --> 6241\n",
            "80 --> 6400\n",
            "81 --> 6561\n",
            "82 --> 6724\n",
            "83 --> 6889\n",
            "84 --> 7056\n",
            "85 --> 7225\n",
            "86 --> 7396\n",
            "87 --> 7569\n",
            "88 --> 7744\n",
            "89 --> 7921\n",
            "90 --> 8100\n",
            "91 --> 8281\n",
            "92 --> 8464\n",
            "93 --> 8649\n",
            "94 --> 8836\n",
            "95 --> 9025\n",
            "96 --> 9216\n",
            "97 --> 9409\n",
            "98 --> 9604\n",
            "99 --> 9801\n",
            "100 --> 10000\n"
          ]
        }
      ]
    },
    {
      "cell_type": "markdown",
      "id": "54892e96",
      "metadata": {
        "id": "54892e96"
      },
      "source": [
        "## Ejercicio 1.2. Listar números pares\n",
        "* Pedir al usuario dos números enteros, que pueden ser positivos o negativos.\n",
        "* Comprobar que el primer número introducido es menor que el segundo\n",
        "* Mostrar en pantalla todos los números pares comprendidos entre ellos\n",
        "* El cero se considera par"
      ]
    },
    {
      "cell_type": "code",
      "source": [
        "while True:  \n",
        "  try:\n",
        "    x=int(input(\"Indique un número entero, puede ser negativo o positivo: \"))\n",
        "    y=int(input(\"Indique otro número entero mayor que el anterior, puede ser negativo o positivo: \"))\n",
        "\n",
        "    while x > y:\n",
        "        y=int(input(\"El número indicado no es mayor que el anterior. Indique otro número entero, puede ser negativo o positivo: \"))\n",
        "        \n",
        "    if x < y:\n",
        "        for i in range(x,y+1):\n",
        "          if not(i%2):\n",
        "            print (i)\n",
        "        print(\"Fin del programa\")\n",
        "        break\n",
        "\n",
        "  except:\n",
        "    print(\"El número introducido no es entero. Por favor, introduce un número entero, \\npuede ser negativo o positivo. Ejemplo el 0\")\n",
        "    break"
      ],
      "metadata": {
        "id": "UudqgymGhKwW",
        "outputId": "fbe6cc60-cfdc-48ce-bc96-49dfc124c5e8",
        "colab": {
          "base_uri": "https://localhost:8080/"
        }
      },
      "id": "UudqgymGhKwW",
      "execution_count": null,
      "outputs": [
        {
          "output_type": "stream",
          "name": "stdout",
          "text": [
            "Indique un número entero, puede ser negativo o positivo: -10\n",
            "Indique otro número entero mayor que el anterior, puede ser negativo o positivo: 1\n",
            "-10\n",
            "-8\n",
            "-6\n",
            "-4\n",
            "-2\n",
            "0\n",
            "Fin del programa\n"
          ]
        }
      ]
    },
    {
      "cell_type": "markdown",
      "source": [
        "## Ejercicio 1.3. Comparar varias parejas de números\n",
        "* Pedir al usuario dos números y decir cuál es:\n",
        " - el mayor\n",
        " - el menor\n",
        " - o si son iguales.\n",
        "* Seguir pidiendo números hasta que se introduzca algún valor:\n",
        " - negativo o \n",
        " - que no sea numérico\n",
        "* Los números solicitados podrán ser números con decimales."
      ],
      "metadata": {
        "id": "XbpVLZVjqvtK"
      },
      "id": "XbpVLZVjqvtK"
    },
    {
      "cell_type": "code",
      "source": [
        "while True:  \n",
        "  try:\n",
        "    x=float(input(\"Indique un número: \"))\n",
        "    y=float(input(\"Indique otro número: \"))\n",
        "\n",
        "    if x < 0 or y < 0:\n",
        "        print(\"Se ha introducido un número negativo. \\nFin del programa\")\n",
        "        break\n",
        "\n",
        "    if x > y:\n",
        "        print(f\"El mayor es {x} y el menor es {y}.\")\n",
        "    elif x < y:\n",
        "        print(f\"El mayor es {y} y el menor es {x}.\")\n",
        "    else:\n",
        "        print(\"Los dos números son iguales.\")\n",
        "      \n",
        "  except:\n",
        "    print(\"Se ha introducido un caracter no válido. \\nFin del programa\")\n",
        "    break"
      ],
      "metadata": {
        "colab": {
          "base_uri": "https://localhost:8080/"
        },
        "id": "wRJbTSlK7gU5",
        "outputId": "f2eb7238-9c24-40b3-8580-89c3c5093ad8"
      },
      "id": "wRJbTSlK7gU5",
      "execution_count": null,
      "outputs": [
        {
          "output_type": "stream",
          "name": "stdout",
          "text": [
            "Indique un número: 3\n",
            "Indique otro número: -2\n",
            "Se ha introducido un número negativo. \n",
            "Fin del programa\n"
          ]
        }
      ]
    },
    {
      "cell_type": "markdown",
      "id": "8c57fbec",
      "metadata": {
        "id": "8c57fbec"
      },
      "source": [
        "## Ejercicio 1.4. Media de una serie de números\n",
        "* Solicitar al usuario que introduzca reiteradamente números no negativos. Formar una lista con esos números.\n",
        "* Se interrumpe la petición de números cuando el usuario introduzca un número negativo. El número negativo no se incorporará a la lista de números captados.\n",
        "* Mostrar en pantalla la lista de números no negativos introducidos.\n",
        "* Mostrar en pantalla la suma y la media de los números de la lista.\n",
        "* Indicar cuántos valores de la lista son superiores a la media.\n",
        "* *Nota:* \n",
        "Los números \"no negativos\" son números positivos o cero, que pueden ser enteros o con decimales."
      ]
    },
    {
      "cell_type": "code",
      "source": [
        "n=0\n",
        "contador=0\n",
        "while True:\n",
        "  try:\n",
        "      x=float(input(\"Indique un número no negativo: \"))\n",
        "\n",
        "      if x<0:\n",
        "        n=-1\n",
        "\n",
        "      if n==0:\n",
        "        milista=[x]\n",
        "        n=1\n",
        "      elif n>0:\n",
        "        milista.append(x)\n",
        "      else:\n",
        "        print (milista [:])\n",
        "\n",
        "        media= sum(milista)/len(milista)\n",
        "\n",
        "        print (f\"La suma de los números de la lista es {sum(milista)} y la media es {media}\")\n",
        "\n",
        "        for i in milista:\n",
        "          if i > media:\n",
        "            contador +=1\n",
        "          \n",
        "        print (f\"Hay un total de {contador} números que son superiores a la media\")\n",
        "\n",
        "        break\n",
        "\n",
        "  except:\n",
        "    print(\"Se ha introducido un caracter no válido. \\nFin del programa\")\n",
        "    break"
      ],
      "metadata": {
        "id": "TfqGIM8zCCIi",
        "colab": {
          "base_uri": "https://localhost:8080/"
        },
        "outputId": "65faa1fd-eb25-44e0-91c8-7aa9e74a05dd"
      },
      "id": "TfqGIM8zCCIi",
      "execution_count": 59,
      "outputs": [
        {
          "output_type": "stream",
          "name": "stdout",
          "text": [
            "Indique un número no negativo: 4\n",
            "Indique un número no negativo: 5\n",
            "Indique un número no negativo: 6\n",
            "Indique un número no negativo: 7\n",
            "Indique un número no negativo: 8\n",
            "Indique un número no negativo: 9\n",
            "Indique un número no negativo: 10\n",
            "Indique un número no negativo: -1\n",
            "[4.0, 5.0, 6.0, 7.0, 8.0, 9.0, 10.0]\n",
            "La suma de los números de la lista es 49.0 y la media es 7.0\n",
            "Hay un total de 3 números que son superiores a la media\n"
          ]
        }
      ]
    },
    {
      "cell_type": "markdown",
      "id": "f2bb8aa7",
      "metadata": {
        "id": "f2bb8aa7"
      },
      "source": [
        "## Ejercicio 1.5. Calculadora\n",
        "* Pedir al usuario dos números con posible decimales\n",
        "* Si alguno de los valores introducidos no es un número válido, por ejemplo una letra o un símbolo, seguir pidiendo valores hasta que el usuario introduzca números válidos.\n",
        "* Crear un **menú** donde el usuario pueda elegir que operación desea hacer con esos dos números:\n",
        " 1. suma\n",
        " 2. resta\n",
        " 3. multiplicación\n",
        " 4. división\n",
        " 5. división entera\n",
        " 6. resto o módulo\n",
        " 7. potencias\n",
        "* En el menú debe haber una opción para realizar las siete operaciones con esos dos números, realizadas todas ellas de una sola vez.\n",
        "* En el menú debe haber una opción para salir del programa.\n",
        "* Utilice **control de errores** para evitar el error de división entre cero. Utilice `try`, `except`."
      ]
    },
    {
      "cell_type": "code",
      "source": [
        "while True:\n",
        "  try:\n",
        "      x=float(input(\"Indique un número: \"))\n",
        "      y=float(input(\"Indique otro número: \"))\n",
        "\n",
        "      n = int(input('''Elija la operación deseada:\n",
        "                        1 → Suma\n",
        "                        2 → Resta\n",
        "                        3 → Multiplicación\n",
        "                        4 → División\n",
        "                        5 → División entera\n",
        "                        6 → Resto o Módulo\n",
        "                        7 → Potencias\n",
        "                        8 → Las 7 operaciones a la vez\n",
        "                        9 → Exit\n",
        "                      '''))\n",
        "      \n",
        "      if n==1:\n",
        "        resultado=x+y\n",
        "        print(f\"El resultado es {resultado}\")\n",
        "      elif n==2:\n",
        "        resultado=x-y\n",
        "        print(f\"El resultado es {resultado}\")\n",
        "      elif n==3:\n",
        "        resultado=x*y\n",
        "        print(f\"El resultado es {resultado}\")\n",
        "      elif n==4:\n",
        "        resultado=x/y\n",
        "        print(f\"El resultado es {resultado}\")\n",
        "      elif n==5:\n",
        "        resultado=x//y\n",
        "        print(f\"El resultado es {resultado}\")\n",
        "      elif n==6:\n",
        "        resultado=x%y\n",
        "        print(f\"El resultado es {resultado}\") \n",
        "      elif n==7:\n",
        "        resultado=x**y\n",
        "        print(f\"El resultado es {resultado}\") \n",
        "      elif n==8:\n",
        "        resultado={\"Suma\":x+y, 'Resta':x-y, 'Multiplicación':x*y, 'División': x/y, 'División Entera':x//y, 'Resto':x%y, 'Potencia':x**y}\n",
        "        print(f\"El resultado es {resultado}\")\n",
        "      elif n==9:\n",
        "        break   \n",
        "\n",
        "  except ZeroDivisionError:\n",
        "        print(\"El denominador no puede ser cero. Pruebe otra vez.\")\n",
        "\n",
        "  except:\n",
        "    print(\"Se ha introducido un caracter no válido. \\nPruebe otra vez.\")\n",
        "\n"
      ],
      "metadata": {
        "colab": {
          "base_uri": "https://localhost:8080/"
        },
        "id": "mopjqNohgszR",
        "outputId": "de5d48a2-9f7b-47ed-b0b4-fda7700c250c"
      },
      "id": "mopjqNohgszR",
      "execution_count": 67,
      "outputs": [
        {
          "name": "stdout",
          "output_type": "stream",
          "text": [
            "Indique un número: 2\n",
            "Indique otro número: 0\n",
            "Elija la operación deseada:\n",
            "                        1 → Suma\n",
            "                        2 → Resta\n",
            "                        3 → Multiplicación\n",
            "                        4 → División\n",
            "                        5 → División entera\n",
            "                        6 → Resto o Módulo\n",
            "                        7 → Potencias\n",
            "                        8 → Las 7 operaciones a la vez\n",
            "                        9 → Exit\n",
            "                      4\n",
            "El denominador no puede ser cero. Pruebe otra vez.\n",
            "Indique un número: e\n",
            "Se ha introducido un caracter no válido. \n",
            "Pruebe otra vez.\n",
            "Indique un número: 2\n",
            "Indique otro número: 2\n",
            "Elija la operación deseada:\n",
            "                        1 → Suma\n",
            "                        2 → Resta\n",
            "                        3 → Multiplicación\n",
            "                        4 → División\n",
            "                        5 → División entera\n",
            "                        6 → Resto o Módulo\n",
            "                        7 → Potencias\n",
            "                        8 → Las 7 operaciones a la vez\n",
            "                        9 → Exit\n",
            "                      8\n",
            "El resultado es {'Suma': 4.0, 'Resta': 0.0, 'Multiplicación': 4.0, 'División': 1.0, 'División Entera': 1.0, 'Resto': 0.0, 'Potencia': 4.0}\n",
            "Indique un número: 9\n",
            "Indique otro número: 9\n",
            "Elija la operación deseada:\n",
            "                        1 → Suma\n",
            "                        2 → Resta\n",
            "                        3 → Multiplicación\n",
            "                        4 → División\n",
            "                        5 → División entera\n",
            "                        6 → Resto o Módulo\n",
            "                        7 → Potencias\n",
            "                        8 → Las 7 operaciones a la vez\n",
            "                        9 → Exit\n",
            "                      9\n"
          ]
        }
      ]
    },
    {
      "cell_type": "markdown",
      "id": "c0bc1641",
      "metadata": {
        "id": "c0bc1641"
      },
      "source": [
        "## Ejercicio 1.6. Divisores de una serie de números\n",
        "* Generar un número aleatorio entre 2 y 1.000, ambos incluidos.\n",
        "* Mostrar en pantalla todos sus divisores y hacer lo mismo con los 10 números siguientes al número elegido aleatoriamente.\n",
        "* Si los divisores del número únicamente fueran 1 y el propio número, indicar que se trata de un número primo\n",
        "* Por ejemplo si el número aleatorio obtenido fuera 100 se vería algo parecido a esto:\n",
        "   - 100 -> [1,2,4,5,10,20,25,50,100]\n",
        "   - 101 -> Primo\n",
        "   - 102 -> [1,2,3,6,17,34,51,102]\n",
        "   - 103 -> Primo\n",
        "   - 104 -> [1,2,4,8,13,26,52,104]\n",
        "   - 105 -> [1,3,5,7,15,21,35,105]\n",
        "   - 106 -> [1,2,53,106]\n",
        "   - 107 -> Primo\n",
        "   - 108 -> [1,2,3,4,6,9,12,18,27,36,54,108]\n",
        "   - 109 -> Primo\n",
        "   - 110 -> [1,2,5,10,11,22,55,110]"
      ]
    },
    {
      "cell_type": "code",
      "source": [
        "import random\n",
        "\n",
        "def frac(a,b):             # función que calcula la parte fraccionaria\n",
        "  return (a/b) - int(a/b)  \n",
        "\n",
        "def main(n):\n",
        "    res=[]\n",
        "    for i in range(1,n+1):\n",
        "        if frac(n,i)<1e-9: #ponemos <1e-9 y no ==0 para evitar posibles errores de redondeo al dividir\n",
        "            res.append(i)\n",
        "    return res\n",
        "\n",
        "\n",
        "n=random.randint(2,1000)\n",
        "\n",
        "for i in range (n, n+11):\n",
        "\n",
        "    if len(main(i))==2:\n",
        "      print(f\"{i} --> Primo\")\n",
        "    else:\n",
        "      print(f\"{i} --> {main(i)}\")\n",
        "\n"
      ],
      "metadata": {
        "colab": {
          "base_uri": "https://localhost:8080/"
        },
        "id": "p1QmoKCYqBMg",
        "outputId": "4e0d31fb-648a-48da-fe78-b5494bdca767"
      },
      "id": "p1QmoKCYqBMg",
      "execution_count": 122,
      "outputs": [
        {
          "output_type": "stream",
          "name": "stdout",
          "text": [
            "490 --> [1, 2, 5, 7, 10, 14, 35, 49, 70, 98, 245, 490]\n",
            "491 --> Primo\n",
            "492 --> [1, 2, 3, 4, 6, 12, 41, 82, 123, 164, 246, 492]\n",
            "493 --> [1, 17, 29, 493]\n",
            "494 --> [1, 2, 13, 19, 26, 38, 247, 494]\n",
            "495 --> [1, 3, 5, 9, 11, 15, 33, 45, 55, 99, 165, 495]\n",
            "496 --> [1, 2, 4, 8, 16, 31, 62, 124, 248, 496]\n",
            "497 --> [1, 7, 71, 497]\n",
            "498 --> [1, 2, 3, 6, 83, 166, 249, 498]\n",
            "499 --> Primo\n",
            "500 --> [1, 2, 4, 5, 10, 20, 25, 50, 100, 125, 250, 500]\n"
          ]
        }
      ]
    },
    {
      "cell_type": "markdown",
      "id": "c53d7a67",
      "metadata": {
        "id": "c53d7a67"
      },
      "source": [
        "## Ejercicio 1.7. Comparar medias de aleatorios con funciones\n",
        "* Generar 12 números aleatorios entre 0 y 100 y calcular su media.\n",
        "* Generar otros 12 números aleatorios entre 0 y 100 y calcular su media.\n",
        "* Mostrar en pantalla las dos listas\n",
        "* Finalmente muestre en pantalla las medias de ambas series y diga cuál de las dos ha resultado mayor.\n",
        "* Utilice una o varias **funciones** para lograrlo."
      ]
    },
    {
      "cell_type": "markdown",
      "id": "a47f544e",
      "metadata": {
        "id": "a47f544e"
      },
      "source": [
        "## Ejercicio 1.8. Matriz con escalones\n",
        "* Dado el parámetro número de filas (n) crear una matriz:\n",
        " - El número de filas (n) puede variar aleatoriamente entre 1 y 20\n",
        " - El número de columnas siempre es el triple que el de filas\n",
        " - La matriz está compuesta por ceros y unos según la distribución que se muestra en la imagen, según sea el valor del parámetro n.\n",
        "* Se trata de imprimir la matriz en la terminal en función del valor de n que nos den.\n",
        "\n",
        "![matriz.png](https://drive.google.com/uc?id=1yff9bW_yu-U1aTdbR2mTmWkD31ZPrqnc)\n",
        "\n",
        "* Para n=5 se obtendría el siguiente resultado:\n",
        "\n",
        "![matriz.png](https://drive.google.com/uc?id=1Pz5wbwCls6DAwOh2SI0Nes-011nSLTjC)\n"
      ]
    },
    {
      "cell_type": "markdown",
      "id": "e199291b",
      "metadata": {
        "id": "e199291b"
      },
      "source": [
        "## Ejercicio 1.9. Frecuencia de caracteres de un libro\n",
        "* Analizar la frecuencia de todos los caracteres que contiene un libro\n",
        "* El libro es: \n",
        " - Frankenstein; Or, The Modern Prometheus by Mary Wollstonecraft Shelley\n",
        "* Se puede obtener libremente del proyecto Gutemberg en esta dirección:\n",
        "  - [Frankenstein](https://www.gutenberg.org/ebooks/84) \n",
        "* Mostrar en pantalla cuantas veces aparece cada letra del alfabeto.\n",
        "* Utilice un ***diccionario*** en Python para guardar cada carácter y su frecuencia."
      ]
    },
    {
      "cell_type": "markdown",
      "id": "a6691e00",
      "metadata": {
        "id": "a6691e00"
      },
      "source": [
        "## Ejercicio 1.10. Detectar el número diferente\n",
        "* Utilice una función para generar un array de números enteros con una longitud aleatoria entre 6 y 15\n",
        "* Los números del array han de ser aleatorios enteros entre entre -99 y +99\n",
        "* Los números del array serán todos pares, menos uno de ellos que será impar, o bien\n",
        "* todos serán impares, menos uno de ellos que será par\n",
        "* Mostrar en pantalla el array\n",
        "* El objetivo es detectar el número que es diferente dentro del array\n",
        "* Crear una **función** a la que pasamos como parámetro el array generado\n",
        "* La función retorna ese número diferente que se ha de imprimir por pantalla\n",
        "* Utilice **funciones**\n",
        "\n",
        "##### Ejemplo 1\n",
        "  - [2, -4, 0, 92, 6, 11, 26, -58, -36]\n",
        "  - Debería retornar 11, ya que es el único número impar del array\n",
        "\n",
        "##### Ejemplo 2\n",
        "  - [-17, 3, 19, -79, 11, 16, -21, -33]\n",
        "  - Debería retornar 16, ya que es el único número par del array"
      ]
    },
    {
      "cell_type": "markdown",
      "id": "77921deb",
      "metadata": {
        "id": "77921deb"
      },
      "source": [
        "## Ejercicio 1.11. Edad\n",
        "* Establezca un procedimiento en el que el código toma la fecha del sistema e indicando su fecha de nacimiento le diga cuántos años tiene.\n",
        "* El programa también le dice cuantos días faltan para que llegue su próximo cumpleaños.\n",
        "* ¿Su código tiene en cuenta los años bisiestos?"
      ]
    },
    {
      "cell_type": "markdown",
      "id": "3968e33a",
      "metadata": {
        "id": "3968e33a"
      },
      "source": [
        "## Ejercicio 1.12. Comprobar si un número es primo\n",
        "* Genere e imprima una lista con los mil primeros números primos\n",
        "* La lista podría ser algo parecido a lo siguiente, donde el primer número primo es 2, el segundo es 3, el tercero es 5, hasta llegar al número mil que es 7.919\n",
        " - 1 → 2\n",
        " - 2 → 3\n",
        " - 3 → 5\n",
        " - 4 → 7\n",
        " - 5 → 11\n",
        " - 6 → 13\n",
        " - 7 → 17\n",
        " - ... ... ...\n",
        " - 1000 → 7919  \n",
        "* Luego genere un número aleatorio entero entre 2 y 7.919.\n",
        "* Muestre en pantalla el número aleatorio generado e indique si pertenece a la lista de los mil primeros números primos.\n",
        "* Si el número no pertenece a la lista imprima un mensaje indicando que el número no es primo, y en caso de serlo indique que lugar de la lista ocupa.\n",
        " - Por ejemplo, el número 17 habría que indicar que ocupa el lugar 7 en la lista de los números primos.\n",
        "* Utilice una o varias **funciones**\n",
        "* Finalmente indique cuanto tiempo ha tardado el programa en ejecutarse"
      ]
    },
    {
      "cell_type": "markdown",
      "id": "d349d756",
      "metadata": {
        "id": "d349d756"
      },
      "source": [
        "## Ejercicio 1.13. Números aleatorios con y sin repetición\n",
        "* Generar dos listas de 10 elementos cada una, con números enteros, aleatorios, entre 1 y 20\n",
        "* En una de las listas los números se pueden llegar a repetir y en la otra no se admiten repeticiones.\n",
        "* Generar una tercera lista con todos los elementos que se repitan en ellas\n",
        "* En esta tercera lista no debe repetirse ningún elemento\n",
        "* Imprimir las tres listas ordenadas"
      ]
    },
    {
      "cell_type": "markdown",
      "id": "f114cf56",
      "metadata": {
        "id": "f114cf56"
      },
      "source": [
        "## Ejercicio 1.14. Ordenar una lista\n",
        "* Generar una lista de números aleatorios con posible repetición e imprimirla.\n",
        "* Realizar la ordenación por **dos métodos**, usando **funciones**\n",
        "* Ordenar la lista sin usar ```sort``` ni ```sorted``` e imprimirla.\n",
        "* Explicar con comentarios del programador lo que hace cada método.\n",
        "* Si el método tiene algún nombre conocido indicarlo, por ejemplo, método de la burbuja."
      ]
    },
    {
      "cell_type": "markdown",
      "id": "be25b009",
      "metadata": {
        "id": "be25b009"
      },
      "source": [
        "## Ejercicio 1.15. Función separa\n",
        "* Genere e imprima una lista de 15 elementos, con números enteros, aleatorios con posible repetición, entre -20 y 20.\n",
        "* Cree una función que separe los elementos de la lista anterior en dos listas\n",
        " - por un lado, los números pares y\n",
        " - por otro, los impares\n",
        "* Las nuevas listas tendrán sus elementos ordenados y sin repetición.\n",
        "* Imprima las listas.\n",
        "* Imprima la desviación típica de cada lista, indicando cuál es la mayor, si la de los pares o la de los impares.\n",
        "* Utilice funciones."
      ]
    },
    {
      "cell_type": "markdown",
      "id": "c9e64049",
      "metadata": {
        "id": "c9e64049"
      },
      "source": [
        "## Ejercicio 1.16. Binario a decimal\n",
        "* Pedir al usuario que introduzca un número binario y convertirlo a decimal.\n",
        "* Mostrar en pantalla también el modo de llegar a ese resultado.\n",
        "* Por ejemplo, si el binario es 101011, entonces se ha de imprimir el proceso que es:\n",
        " - 1\\*2^5 + 0\\*2^4 + 1\\*2^3 + 0\\*2^2 + 1\\*2^1 + 1\\*2^0 = 43\n",
        "\n",
        "![Binario a decimal](https://github.com/financieras/pyCourse/blob/main/jupyter/img/binario_a_decimal.jpg?raw=1)"
      ]
    },
    {
      "cell_type": "markdown",
      "id": "8b2016cf",
      "metadata": {
        "id": "8b2016cf"
      },
      "source": [
        "## Ejercicio 1.17. Decimal a binario\n",
        "* Pedir al usuario que introduzca un número decimal y convertirlo a binario.\n",
        "* Mostrar en pantalla el decimal introducido y su equivalente en binario. \n",
        "* Mostrar en pantalla una **tabla** similar a la del siguiente ejemplo.\n",
        "* La tabla explica la forma de llegar al resultado en binario.\n",
        "\n",
        "![Decimal a binario](https://github.com/financieras/pyCourse/blob/main/jupyter/img/decimal_a_binario.jpg?raw=1)"
      ]
    },
    {
      "cell_type": "markdown",
      "id": "d51b4dab",
      "metadata": {
        "id": "d51b4dab"
      },
      "source": [
        "## Ejercicio 1.18. Suma de dos números para llegar al target\n",
        "* Generar un número entero aleatorio entre 2 y 20. A este número le llamaremos target. \n",
        "* Generar una lista de números aleatorios enteros entre -10 y 10.\n",
        "* La lista puede tener desde un mínimo de dos elementos a un máximo de seis.\n",
        "* La lista debe contener dos números que sumados nos den el target.\n",
        "* El programa generará un target y una lista y verificará que se cumple la condición de la suma.\n",
        "* En caso de que no se cumpla seguirá generando otro target y otra lista hasta conseguirlo.\n",
        "* La lista debe ser de **solución única**, esto es, solo puede haber un par de números que sumados den el target. \n",
        "* Como ejemplo se puede ver la siguiente imagen donde mostramos tres listas que cumplen la condición.\n",
        "* En su caso, debe generar y mostrar 100 listas que cumplan los requisitos pedidos.\n",
        "\n",
        "![Sumar dos numeros](https://github.com/financieras/pyCourse/blob/main/jupyter/img/sumar_dos_numeros.jpg?raw=1)"
      ]
    },
    {
      "cell_type": "markdown",
      "id": "71e906cb",
      "metadata": {
        "id": "71e906cb"
      },
      "source": [
        "## Ejercicio 1.19. Segundo mínimo en listas anidadas\n",
        "* Disponemos de la siguiente lista anidada:\n",
        " - [[\"Ana\",1],[\"Raúl\",1],[\"Jose\",9],[\"David\",7],[\"Eva\",8],[\"Felipe\",4],[\"Héctor\",9],[\"Isabel\",4],[\"Susana\",5]]\n",
        "* El mínimo de esta lista es 1 que recae en Ana y Raúl.\n",
        "* El segundo mínimo de esta lista es 4 que está asociado a Felipe e Isabel.\n",
        "* Estamos buscando los nombres que están asociados al segundo mínimo.\n",
        "* Para esta lista, el procedimiento debería proporcionar como salida: Felipe, Isabel.\n",
        "* Crear un procedimiento que genere listas anidadas similares a la del ejemplo, de longitud variable, que contenga entre 2 y 9 sublistas.\n",
        "* Se debe **garantizar que existe el segundo mínimo**. El segundo mínimo no existiría si todos los valores numéricos coincidieran.\n",
        "* El programa mostrará en pantalla la lista generada y el nombre o nombres asociados con el segundo mínimo.\n",
        "* Utilice una o varias **funciones** para lograrlo.\n",
        "* Otros ejemplos:\n",
        " - [[\"Iris\",5],[\"Gala\",2],[\"Zoe\",8]] El segundo mínimo lo tiene: Iris.\n",
        " - [[\"Abel\",3],[\"Blas\",2],[\"Hugo\",8],[\"Leo\",3]] El segundo mínimo lo tienen: Abel y Leo."
      ]
    },
    {
      "cell_type": "markdown",
      "id": "42fae779",
      "metadata": {
        "id": "42fae779"
      },
      "source": [
        "## Ejercicio 1.20. Lista de impares\n",
        "* Generar números enteros aleatorios entre 10 y 99 (ambos incluidos) y con posible repetición. Estos números se incorporarán a una lista de longitud 17.\n",
        "* Generar continuamente listas de este tipo hasta lograr una donde todos sus elementos sean impares y sin repetición.\n",
        "* Indique cuántas listas fueron generadas hasta llegar a la que cumple estos requisitos.\n",
        "* Imprimir la lista obtenida de forma ordenada, de mayor a menor.\n",
        "* Imprimir el tiempo que se ha tardado en lograr esa lista expresado en segundos con hasta **6 decimales**.\n",
        "\n",
        "#### *Nota*\n",
        "* La \"longitud 17\" es orientativa para que el número de segundos empleados no sea muy grande, ni una fracción muy pequeña de un segundo.\n",
        "* Si en su ordenador y con su código se alcanzan tiempos excesivamente grandes pruebe con listas de longitud algo menor, por ejemplo, con 16 o menos.\n",
        "\n",
        "![Impares](https://github.com/financieras/pyCourse/blob/main/jupyter/img/impares.jpg?raw=1)"
      ]
    }
  ],
  "metadata": {
    "kernelspec": {
      "display_name": "Python 3 (ipykernel)",
      "language": "python",
      "name": "python3"
    },
    "language_info": {
      "codemirror_mode": {
        "name": "ipython",
        "version": 3
      },
      "file_extension": ".py",
      "mimetype": "text/x-python",
      "name": "python",
      "nbconvert_exporter": "python",
      "pygments_lexer": "ipython3",
      "version": "3.8.11"
    },
    "colab": {
      "name": "practica1.ipynb",
      "provenance": [],
      "include_colab_link": true
    }
  },
  "nbformat": 4,
  "nbformat_minor": 5
}