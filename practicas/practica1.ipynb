{
  "cells": [
    {
      "cell_type": "markdown",
      "metadata": {
        "id": "view-in-github",
        "colab_type": "text"
      },
      "source": [
        "<a href=\"https://colab.research.google.com/github/LViudez/UCM_Python/blob/main/practicas/practica1.ipynb\" target=\"_parent\"><img src=\"https://colab.research.google.com/assets/colab-badge.svg\" alt=\"Open In Colab\"/></a>"
      ]
    },
    {
      "cell_type": "markdown",
      "id": "8d9dc823",
      "metadata": {
        "id": "8d9dc823"
      },
      "source": [
        "# Práctica 1\n",
        "* Puede resolver aquí los ejercicios abriendo una celda después de cada uno de los enunciados.  \n",
        "* Por favor, documente la solución de los ejercicios añadiendo suficientes **comentarios** del programador que expliquen el código."
      ]
    },
    {
      "cell_type": "markdown",
      "id": "be4f1980",
      "metadata": {
        "id": "be4f1980"
      },
      "source": [
        "## Ejercicio 1.1. Elevar al cuadrado\n",
        "* Imprimir en pantalla el cuadrado de todos los números del 1 al 100, ambos incluidos.\n",
        "* Mostrarlos en forma de columnas. Algo parecido a:\n",
        " - 1 → 1\n",
        " - 2 → 4\n",
        " - 3 → 9\n",
        " - 4 → 16\n",
        " - 5 → 25\n",
        " - ... ... ...\n",
        " - 100 → 10,000"
      ]
    },
    {
      "cell_type": "code",
      "source": [
        "for i in range (1,101):\n",
        "  print(f\"{i:3d} --> {(i**2):5d}\") #Con 3d y 5d alineamos a la derecha\n"
      ],
      "metadata": {
        "id": "3WhrvY6FOVdN"
      },
      "id": "3WhrvY6FOVdN",
      "execution_count": null,
      "outputs": []
    },
    {
      "cell_type": "markdown",
      "id": "54892e96",
      "metadata": {
        "id": "54892e96"
      },
      "source": [
        "## Ejercicio 1.2. Listar números pares\n",
        "* Pedir al usuario dos números enteros, que pueden ser positivos o negativos.\n",
        "* Comprobar que el primer número introducido es menor que el segundo\n",
        "* Mostrar en pantalla todos los números pares comprendidos entre ellos\n",
        "* El cero se considera par"
      ]
    },
    {
      "cell_type": "code",
      "source": [
        "while True:  \n",
        "  try:\n",
        "    x=int(input(\"Indique un número entero, puede ser negativo o positivo: \"))\n",
        "    y=int(input(\"Indique otro número entero mayor que el anterior, puede ser negativo o positivo: \"))\n",
        "\n",
        "    while x > y:\n",
        "        y=int(input(\"El número indicado no es mayor que el anterior. Indique otro número entero, puede ser negativo o positivo: \"))\n",
        "        \n",
        "    if x < y:\n",
        "        for i in range(x,y+1):\n",
        "          if not(i%2):\n",
        "            print (i)\n",
        "        print(\"Fin del programa\")\n",
        "        break\n",
        "\n",
        "  except:\n",
        "    print(\"El número introducido no es entero. Por favor, introduce un número entero, \\npuede ser negativo o positivo. Ejemplo el 0\")\n",
        "    break"
      ],
      "metadata": {
        "id": "UudqgymGhKwW"
      },
      "id": "UudqgymGhKwW",
      "execution_count": null,
      "outputs": []
    },
    {
      "cell_type": "markdown",
      "source": [
        "## Ejercicio 1.3. Comparar varias parejas de números\n",
        "* Pedir al usuario dos números y decir cuál es:\n",
        " - el mayor\n",
        " - el menor\n",
        " - o si son iguales.\n",
        "* Seguir pidiendo números hasta que se introduzca algún valor:\n",
        " - negativo o \n",
        " - que no sea numérico\n",
        "* Los números solicitados podrán ser números con decimales."
      ],
      "metadata": {
        "id": "XbpVLZVjqvtK"
      },
      "id": "XbpVLZVjqvtK"
    },
    {
      "cell_type": "code",
      "source": [
        "while True:  \n",
        "  try:\n",
        "    x=float(input(\"Indique un número: \"))\n",
        "    y=float(input(\"Indique otro número: \"))\n",
        "\n",
        "    if x < 0 or y < 0:\n",
        "        print(\"Se ha introducido un número negativo. \\nFin del programa\")\n",
        "        break\n",
        "\n",
        "    if x > y:\n",
        "        print(f\"El mayor es {x} y el menor es {y}.\")\n",
        "    elif x < y:\n",
        "        print(f\"El mayor es {y} y el menor es {x}.\")\n",
        "    else:\n",
        "        print(\"Los dos números son iguales.\")\n",
        "      \n",
        "  except:\n",
        "    print(\"Se ha introducido un caracter no válido. \\nFin del programa\")\n",
        "    break"
      ],
      "metadata": {
        "id": "wRJbTSlK7gU5"
      },
      "id": "wRJbTSlK7gU5",
      "execution_count": null,
      "outputs": []
    },
    {
      "cell_type": "markdown",
      "id": "8c57fbec",
      "metadata": {
        "id": "8c57fbec"
      },
      "source": [
        "## Ejercicio 1.4. Media de una serie de números\n",
        "* Solicitar al usuario que introduzca reiteradamente números no negativos. Formar una lista con esos números.\n",
        "* Se interrumpe la petición de números cuando el usuario introduzca un número negativo. El número negativo no se incorporará a la lista de números captados.\n",
        "* Mostrar en pantalla la lista de números no negativos introducidos.\n",
        "* Mostrar en pantalla la suma y la media de los números de la lista.\n",
        "* Indicar cuántos valores de la lista son superiores a la media.\n",
        "* *Nota:* \n",
        "Los números \"no negativos\" son números positivos o cero, que pueden ser enteros o con decimales."
      ]
    },
    {
      "cell_type": "code",
      "source": [
        "n=0\n",
        "contador=0\n",
        "while True:\n",
        "  try:\n",
        "      x=float(input(\"Indique un número no negativo: \"))\n",
        "\n",
        "      if x<0:\n",
        "        n=-1\n",
        "\n",
        "      if n==0:\n",
        "        milista=[x]\n",
        "        n=1\n",
        "      elif n>0:\n",
        "        milista.append(x)\n",
        "      else:\n",
        "        print (milista [:])\n",
        "\n",
        "        media= sum(milista)/len(milista)\n",
        "\n",
        "        print (f\"La suma de los números de la lista es {sum(milista)} y la media es {media}\")\n",
        "\n",
        "        for i in milista:\n",
        "          if i > media:\n",
        "            contador +=1\n",
        "          \n",
        "        print (f\"Hay un total de {contador} números que son superiores a la media\")\n",
        "\n",
        "        break\n",
        "\n",
        "  except:\n",
        "    print(\"Se ha introducido un caracter no válido. \\nFin del programa\")\n",
        "    break"
      ],
      "metadata": {
        "id": "TfqGIM8zCCIi"
      },
      "id": "TfqGIM8zCCIi",
      "execution_count": null,
      "outputs": []
    },
    {
      "cell_type": "markdown",
      "id": "f2bb8aa7",
      "metadata": {
        "id": "f2bb8aa7"
      },
      "source": [
        "## Ejercicio 1.5. Calculadora\n",
        "* Pedir al usuario dos números con posible decimales\n",
        "* Si alguno de los valores introducidos no es un número válido, por ejemplo una letra o un símbolo, seguir pidiendo valores hasta que el usuario introduzca números válidos.\n",
        "* Crear un **menú** donde el usuario pueda elegir que operación desea hacer con esos dos números:\n",
        " 1. suma\n",
        " 2. resta\n",
        " 3. multiplicación\n",
        " 4. división\n",
        " 5. división entera\n",
        " 6. resto o módulo\n",
        " 7. potencias\n",
        "* En el menú debe haber una opción para realizar las siete operaciones con esos dos números, realizadas todas ellas de una sola vez.\n",
        "* En el menú debe haber una opción para salir del programa.\n",
        "* Utilice **control de errores** para evitar el error de división entre cero. Utilice `try`, `except`."
      ]
    },
    {
      "cell_type": "code",
      "source": [
        "while True:\n",
        "  try:\n",
        "      x=float(input(\"Indique un número: \"))\n",
        "      y=float(input(\"Indique otro número: \"))\n",
        "\n",
        "      n = int(input('''Elija la operación deseada:\n",
        "                        1 → Suma\n",
        "                        2 → Resta\n",
        "                        3 → Multiplicación\n",
        "                        4 → División\n",
        "                        5 → División entera\n",
        "                        6 → Resto o Módulo\n",
        "                        7 → Potencias\n",
        "                        8 → Las 7 operaciones a la vez\n",
        "                        9 → Exit\n",
        "                      '''))\n",
        "      \n",
        "      if n==1:\n",
        "        resultado=x+y\n",
        "        print(f\"El resultado es {resultado}\")\n",
        "      elif n==2:\n",
        "        resultado=x-y\n",
        "        print(f\"El resultado es {resultado}\")\n",
        "      elif n==3:\n",
        "        resultado=x*y\n",
        "        print(f\"El resultado es {resultado}\")\n",
        "      elif n==4:\n",
        "        resultado=x/y\n",
        "        print(f\"El resultado es {resultado}\")\n",
        "      elif n==5:\n",
        "        resultado=x//y\n",
        "        print(f\"El resultado es {resultado}\")\n",
        "      elif n==6:\n",
        "        resultado=x%y\n",
        "        print(f\"El resultado es {resultado}\") \n",
        "      elif n==7:\n",
        "        resultado=x**y\n",
        "        print(f\"El resultado es {resultado}\") \n",
        "      elif n==8:\n",
        "        resultado={\"Suma\":x+y, 'Resta':x-y, 'Multiplicación':x*y, 'División': x/y, 'División Entera':x//y, 'Resto':x%y, 'Potencia':x**y}\n",
        "        print(f\"El resultado es {resultado}\")\n",
        "      elif n==9:\n",
        "        break   \n",
        "\n",
        "  except ZeroDivisionError:\n",
        "        print(\"El denominador no puede ser cero. Pruebe otra vez.\")\n",
        "\n",
        "  except:\n",
        "    print(\"Se ha introducido un caracter no válido. \\nPruebe otra vez.\")\n",
        "\n"
      ],
      "metadata": {
        "id": "mopjqNohgszR"
      },
      "id": "mopjqNohgszR",
      "execution_count": null,
      "outputs": []
    },
    {
      "cell_type": "markdown",
      "id": "c0bc1641",
      "metadata": {
        "id": "c0bc1641"
      },
      "source": [
        "## Ejercicio 1.6. Divisores de una serie de números\n",
        "* Generar un número aleatorio entre 2 y 1.000, ambos incluidos.\n",
        "* Mostrar en pantalla todos sus divisores y hacer lo mismo con los 10 números siguientes al número elegido aleatoriamente.\n",
        "* Si los divisores del número únicamente fueran 1 y el propio número, indicar que se trata de un número primo\n",
        "* Por ejemplo si el número aleatorio obtenido fuera 100 se vería algo parecido a esto:\n",
        "   - 100 -> [1,2,4,5,10,20,25,50,100]\n",
        "   - 101 -> Primo\n",
        "   - 102 -> [1,2,3,6,17,34,51,102]\n",
        "   - 103 -> Primo\n",
        "   - 104 -> [1,2,4,8,13,26,52,104]\n",
        "   - 105 -> [1,3,5,7,15,21,35,105]\n",
        "   - 106 -> [1,2,53,106]\n",
        "   - 107 -> Primo\n",
        "   - 108 -> [1,2,3,4,6,9,12,18,27,36,54,108]\n",
        "   - 109 -> Primo\n",
        "   - 110 -> [1,2,5,10,11,22,55,110]"
      ]
    },
    {
      "cell_type": "code",
      "source": [
        "import random\n",
        "\n",
        "def frac(a,b):             # función que calcula la parte fraccionaria\n",
        "  return (a/b) - int(a/b)  \n",
        "\n",
        "def main(n):\n",
        "    res=[]\n",
        "    for i in range(1,n+1):\n",
        "        if frac(n,i)<1e-9: #ponemos <1e-9 y no ==0 para evitar posibles errores de redondeo al dividir\n",
        "            res.append(i)\n",
        "    return res\n",
        "\n",
        "\n",
        "n=random.randint(2,1000)\n",
        "\n",
        "for i in range (n, n+11):\n",
        "\n",
        "    if len(main(i))==2:\n",
        "      print(f\"{i} --> Primo\")\n",
        "    else:\n",
        "      print(f\"{i} --> {main(i)}\")\n",
        "\n"
      ],
      "metadata": {
        "id": "p1QmoKCYqBMg"
      },
      "id": "p1QmoKCYqBMg",
      "execution_count": null,
      "outputs": []
    },
    {
      "cell_type": "markdown",
      "id": "c53d7a67",
      "metadata": {
        "id": "c53d7a67"
      },
      "source": [
        "## Ejercicio 1.7. Comparar medias de aleatorios con funciones\n",
        "* Generar 12 números aleatorios entre 0 y 100 y calcular su media.\n",
        "* Generar otros 12 números aleatorios entre 0 y 100 y calcular su media.\n",
        "* Mostrar en pantalla las dos listas\n",
        "* Finalmente muestre en pantalla las medias de ambas series y diga cuál de las dos ha resultado mayor.\n",
        "* Utilice una o varias **funciones** para lograrlo."
      ]
    },
    {
      "cell_type": "code",
      "source": [
        "from random import randint\n",
        "from statistics import mean\n",
        "\n",
        "def PR_Listas():\n",
        "\n",
        "  lista=[]\n",
        "  lista2=[]\n",
        "\n",
        "  for i in range(12):\n",
        "      lista.append(randint(0,100))\n",
        "  \n",
        "  for i in range(12):\n",
        "      lista2.append(randint(0,100))\n",
        "\n",
        "  print(lista,lista2)\n",
        "  x=mean(lista)\n",
        "  y=mean(lista2)\n",
        "\n",
        "  if x > y:\n",
        "    print(f'La media de la primera lista {round(x,2)} es mayor que la media de la segunda {round(y,2)} ')\n",
        "  else:\n",
        "    print(f'La media de la segunda lista {round(y,2)} es mayor que la media de la primera {round(x,2)} ')\n",
        "\n",
        "PR_Listas()\n"
      ],
      "metadata": {
        "id": "9DxAnf1bP_En"
      },
      "id": "9DxAnf1bP_En",
      "execution_count": null,
      "outputs": []
    },
    {
      "cell_type": "markdown",
      "id": "a47f544e",
      "metadata": {
        "id": "a47f544e"
      },
      "source": [
        "## Ejercicio 1.8. Matriz con escalones\n",
        "* Dado el parámetro número de filas (n) crear una matriz:\n",
        " - El número de filas (n) puede variar aleatoriamente entre 1 y 20\n",
        " - El número de columnas siempre es el triple que el de filas\n",
        " - La matriz está compuesta por ceros y unos según la distribución que se muestra en la imagen, según sea el valor del parámetro n.\n",
        "* Se trata de imprimir la matriz en la terminal en función del valor de n que nos den.\n",
        "\n",
        "![matriz.png](https://drive.google.com/uc?id=1yff9bW_yu-U1aTdbR2mTmWkD31ZPrqnc)\n",
        "\n",
        "* Para n=5 se obtendría el siguiente resultado:\n",
        "\n",
        "![matriz.png](https://drive.google.com/uc?id=1Pz5wbwCls6DAwOh2SI0Nes-011nSLTjC)\n"
      ]
    },
    {
      "cell_type": "code",
      "source": [
        "from random import randint\n",
        "\n",
        "def rectangulo(n):\n",
        "    matriz = []\n",
        "    cero=0\n",
        "    for i in range(n):\n",
        "        matriz.append([])\n",
        "        for j in range(3*n):\n",
        "            if i >=1 and j >= (3*n-cero):\n",
        "              matriz[i].append(0)\n",
        "            else:\n",
        "              matriz[i].append(1)\n",
        "        cero +=3\n",
        "    return matriz\n",
        "\n",
        "n = randint(1,20)\n",
        "matrix = rectangulo(n)\n",
        "\n",
        "for i in range(n):\n",
        "    print(*matrix[i])"
      ],
      "metadata": {
        "id": "T-yHEkxShNo2"
      },
      "id": "T-yHEkxShNo2",
      "execution_count": null,
      "outputs": []
    },
    {
      "cell_type": "markdown",
      "id": "e199291b",
      "metadata": {
        "id": "e199291b"
      },
      "source": [
        "## Ejercicio 1.9. Frecuencia de caracteres de un libro\n",
        "* Analizar la frecuencia de todos los caracteres que contiene un libro\n",
        "* El libro es: \n",
        " - Frankenstein; Or, The Modern Prometheus by Mary Wollstonecraft Shelley\n",
        "* Se puede obtener libremente del proyecto Gutemberg en esta dirección:\n",
        "  - [Frankenstein](https://www.gutenberg.org/ebooks/84) \n",
        "* Mostrar en pantalla cuantas veces aparece cada letra del alfabeto.\n",
        "* Utilice un ***diccionario*** en Python para guardar cada carácter y su frecuencia."
      ]
    },
    {
      "cell_type": "code",
      "source": [
        "!git clone https://github.com/financieras/pyCourse.git\n",
        "%cd pyCourse/ejemplos\n",
        "\n",
        "import string\n",
        "def listAlphabet():                   #Creamos una lista con el Abecedario\n",
        "  return list(string.ascii_lowercase)\n",
        "\n",
        "\n",
        "ABC = listAlphabet()\n",
        "f = open(\"frankenstein.txt\")  # abrimos el archivo y lo asignamos a la variable f (file)\n",
        "libro = f.read()              # leemos el fichero\n",
        "\n",
        "total = []\n",
        "\n",
        "for i in ABC:\n",
        "  n = libro.count(i)          # Contamos minúsculas\n",
        "  N = libro.count(i.upper())  # Contamos mayúsculas\n",
        "  total.append(n+N)           # Sumamos los dos totales\n",
        "\n",
        "f.close()                     # cerramos el fichero\n",
        "print(dict(zip(ABC,total)))  \n"
      ],
      "metadata": {
        "id": "PoAbYFRw1GQj"
      },
      "id": "PoAbYFRw1GQj",
      "execution_count": null,
      "outputs": []
    },
    {
      "cell_type": "markdown",
      "id": "a6691e00",
      "metadata": {
        "id": "a6691e00"
      },
      "source": [
        "## Ejercicio 1.10. Detectar el número diferente\n",
        "* Utilice una función para generar un array de números enteros con una longitud aleatoria entre 6 y 15\n",
        "* Los números del array han de ser aleatorios enteros entre entre -99 y +99\n",
        "* Los números del array serán todos pares, menos uno de ellos que será impar, o bien\n",
        "* todos serán impares, menos uno de ellos que será par\n",
        "* Mostrar en pantalla el array\n",
        "* El objetivo es detectar el número que es diferente dentro del array\n",
        "* Crear una **función** a la que pasamos como parámetro el array generado\n",
        "* La función retorna ese número diferente que se ha de imprimir por pantalla\n",
        "* Utilice **funciones**\n",
        "\n",
        "##### Ejemplo 1\n",
        "  - [2, -4, 0, 92, 6, 11, 26, -58, -36]\n",
        "  - Debería retornar 11, ya que es el único número impar del array\n",
        "\n",
        "##### Ejemplo 2\n",
        "  - [-17, 3, 19, -79, 11, 16, -21, -33]\n",
        "  - Debería retornar 16, ya que es el único número par del array"
      ]
    },
    {
      "cell_type": "code",
      "source": [
        "from random import randint\n",
        "from random import randrange\n",
        "\n",
        "\n",
        "def array_ent (n):\n",
        "  npares=0\n",
        "  nimpares=0\n",
        "  nlistas=0\n",
        "  hayimpar=False\n",
        "  haypar=False\n",
        "\n",
        "  while True:\n",
        "    l = [randrange(-99,99) for i in range(n)]  # aleatorios sin repetición\n",
        "    nlistas += 1\n",
        "    npares = 0   # cuenta cuántos pares existen\n",
        "    nimpares=0\n",
        "    for i in l:\n",
        "        if i%2 == 0:\n",
        "            npares += 1\n",
        "            haypar=True\n",
        "        else:\n",
        "            nimpares += 1\n",
        "            hayimpar = True\n",
        "    if (npares == n-1 and hayimpar) or (nimpares ==n-1 and haypar):\n",
        "        return l\n",
        "\n",
        "def num_dif (lista):\n",
        "  npares=0\n",
        "  nimpares=0\n",
        "\n",
        "  for i in lista:\n",
        "      if i%2==0:\n",
        "        npares +=1\n",
        "  print(lista)\n",
        "  if npares > 1:\n",
        "    for v in lista: #enumerate (lista): # i,v son el index y el valor\n",
        "        if v%2:\n",
        "          print(f\"El número impar es {v}\") \n",
        "  else:\n",
        "     for v in lista: #enumerate (lista): # i,v son el index y el valor\n",
        "        if v%2==0:\n",
        "          print(f\"El número par es {v}\")\n",
        "      \n",
        "n = randint(6,15)\n",
        "num_dif(array_ent(n))\n",
        "\n"
      ],
      "metadata": {
        "id": "E6olpopXuFGP"
      },
      "id": "E6olpopXuFGP",
      "execution_count": null,
      "outputs": []
    },
    {
      "cell_type": "markdown",
      "id": "77921deb",
      "metadata": {
        "id": "77921deb"
      },
      "source": [
        "## Ejercicio 1.11. Edad\n",
        "* Establezca un procedimiento en el que el código toma la fecha del sistema e indicando su fecha de nacimiento le diga cuántos años tiene.\n",
        "* El programa también le dice cuantos días faltan para que llegue su próximo cumpleaños.\n",
        "* ¿Su código tiene en cuenta los años bisiestos?"
      ]
    },
    {
      "cell_type": "code",
      "source": [
        "from datetime import date\n",
        "\n",
        "#Sí tiene en cuenta los años bisiestos\n",
        "\n",
        "hoy=date.today()\n",
        "cumple= date(1991,12,21)\n",
        "\n",
        "def años(hoy,fecha):\n",
        "  edad = hoy.year - fecha.year - ((hoy.month,hoy.day)<(fecha.month,fecha.day))\n",
        "  return edad\n",
        "\n",
        "def falta (hoy,fecha):\n",
        "  f_com = date(hoy.year,fecha.month,fecha.day)\n",
        "\n",
        "  dif= abs((f_com - hoy).days)\n",
        "\n",
        "  return dif\n",
        "\n",
        "\n",
        "print(\"Tengo\",años(hoy,cumple),\"años y faltan\",falta (hoy,cumple),\"días para cumplir\",años(hoy,cumple) +1 )\n",
        "\n"
      ],
      "metadata": {
        "id": "kpm9oJ_SuEVQ"
      },
      "id": "kpm9oJ_SuEVQ",
      "execution_count": null,
      "outputs": []
    },
    {
      "cell_type": "markdown",
      "id": "3968e33a",
      "metadata": {
        "id": "3968e33a"
      },
      "source": [
        "## Ejercicio 1.12. Comprobar si un número es primo\n",
        "* Genere e imprima una lista con los mil primeros números primos\n",
        "* La lista podría ser algo parecido a lo siguiente, donde el primer número primo es 2, el segundo es 3, el tercero es 5, hasta llegar al número mil que es 7.919\n",
        " - 1 → 2\n",
        " - 2 → 3\n",
        " - 3 → 5\n",
        " - 4 → 7\n",
        " - 5 → 11\n",
        " - 6 → 13\n",
        " - 7 → 17\n",
        " - ... ... ...\n",
        " - 1000 → 7919  \n",
        "* Luego genere un número aleatorio entero entre 2 y 7.919.\n",
        "* Muestre en pantalla el número aleatorio generado e indique si pertenece a la lista de los mil primeros números primos.\n",
        "* Si el número no pertenece a la lista imprima un mensaje indicando que el número no es primo, y en caso de serlo indique que lugar de la lista ocupa.\n",
        " - Por ejemplo, el número 17 habría que indicar que ocupa el lugar 7 en la lista de los números primos.\n",
        "* Utilice una o varias **funciones**\n",
        "* Finalmente indique cuanto tiempo ha tardado el programa en ejecutarse"
      ]
    },
    {
      "cell_type": "code",
      "source": [
        "from random import randint\n",
        "import time\n",
        "\n",
        "def n_primos(n):\n",
        "  lista = [2,]\n",
        "  contador=0\n",
        "  while contador <=n:\n",
        "    for i in range(3, 10000, 2):\n",
        "      for j in range(3, int(i**.5)+1, 2):\n",
        "        if i%j == 0:\n",
        "          break\n",
        "      else:         # else del for\n",
        "        lista.append(i)\n",
        "        contador +=1\n",
        "\n",
        "  for i in range (1,n+1):\n",
        "    print(f\"{i:4d} --> {lista[i-1]:4d}\") #Con 4d y 4d alineamos a la derecha\n",
        "\n",
        "\n",
        "\n",
        "def pertenece (lista):\n",
        "  n_ale = randint(2,7920)\n",
        "\n",
        "  if n_ale in lista:\n",
        "    print(f\"El número {n_ale} ocupa el lugar {lista.index(n_ale)+1} en la lista de los números primos\") #Sumamos uno al indice para que coincida con el número de la columna de la izq, ya que la lista empieza a contar desde 0.\n",
        "  else:\n",
        "    print(f\"El número {n_ale} no es primo\")\n",
        "\n",
        "inicio=time.time()\n",
        "n=1000 #El número de primos que queremos\n",
        "n_primos(n)\n",
        "pertenece(lista)\n",
        "\n",
        "fin=time.time()\n",
        "\n",
        "print(fin-inicio)\n",
        "\n",
        "\n",
        "\n"
      ],
      "metadata": {
        "id": "Y2LkssavQOue"
      },
      "id": "Y2LkssavQOue",
      "execution_count": null,
      "outputs": []
    },
    {
      "cell_type": "markdown",
      "id": "d349d756",
      "metadata": {
        "id": "d349d756"
      },
      "source": [
        "## Ejercicio 1.13. Números aleatorios con y sin repetición\n",
        "* Generar dos listas de 10 elementos cada una, con números enteros, aleatorios, entre 1 y 20\n",
        "* En una de las listas los números se pueden llegar a repetir y en la otra no se admiten repeticiones.\n",
        "* Generar una tercera lista con todos los elementos que se repitan en ellas\n",
        "* En esta tercera lista no debe repetirse ningún elemento\n",
        "* Imprimir las tres listas ordenadas"
      ]
    },
    {
      "cell_type": "markdown",
      "id": "f114cf56",
      "metadata": {
        "id": "f114cf56"
      },
      "source": [
        "## Ejercicio 1.14. Ordenar una lista\n",
        "* Generar una lista de números aleatorios con posible repetición e imprimirla.\n",
        "* Realizar la ordenación por **dos métodos**, usando **funciones**\n",
        "* Ordenar la lista sin usar ```sort``` ni ```sorted``` e imprimirla.\n",
        "* Explicar con comentarios del programador lo que hace cada método.\n",
        "* Si el método tiene algún nombre conocido indicarlo, por ejemplo, método de la burbuja."
      ]
    },
    {
      "cell_type": "markdown",
      "id": "be25b009",
      "metadata": {
        "id": "be25b009"
      },
      "source": [
        "## Ejercicio 1.15. Función separa\n",
        "* Genere e imprima una lista de 15 elementos, con números enteros, aleatorios con posible repetición, entre -20 y 20.\n",
        "* Cree una función que separe los elementos de la lista anterior en dos listas\n",
        " - por un lado, los números pares y\n",
        " - por otro, los impares\n",
        "* Las nuevas listas tendrán sus elementos ordenados y sin repetición.\n",
        "* Imprima las listas.\n",
        "* Imprima la desviación típica de cada lista, indicando cuál es la mayor, si la de los pares o la de los impares.\n",
        "* Utilice funciones."
      ]
    },
    {
      "cell_type": "markdown",
      "id": "c9e64049",
      "metadata": {
        "id": "c9e64049"
      },
      "source": [
        "## Ejercicio 1.16. Binario a decimal\n",
        "* Pedir al usuario que introduzca un número binario y convertirlo a decimal.\n",
        "* Mostrar en pantalla también el modo de llegar a ese resultado.\n",
        "* Por ejemplo, si el binario es 101011, entonces se ha de imprimir el proceso que es:\n",
        " - 1\\*2^5 + 0\\*2^4 + 1\\*2^3 + 0\\*2^2 + 1\\*2^1 + 1\\*2^0 = 43\n",
        "\n",
        "![Binario a decimal](https://github.com/financieras/pyCourse/blob/main/jupyter/img/binario_a_decimal.jpg?raw=1)"
      ]
    },
    {
      "cell_type": "markdown",
      "id": "8b2016cf",
      "metadata": {
        "id": "8b2016cf"
      },
      "source": [
        "## Ejercicio 1.17. Decimal a binario\n",
        "* Pedir al usuario que introduzca un número decimal y convertirlo a binario.\n",
        "* Mostrar en pantalla el decimal introducido y su equivalente en binario. \n",
        "* Mostrar en pantalla una **tabla** similar a la del siguiente ejemplo.\n",
        "* La tabla explica la forma de llegar al resultado en binario.\n",
        "\n",
        "![Decimal a binario](https://github.com/financieras/pyCourse/blob/main/jupyter/img/decimal_a_binario.jpg?raw=1)"
      ]
    },
    {
      "cell_type": "markdown",
      "id": "d51b4dab",
      "metadata": {
        "id": "d51b4dab"
      },
      "source": [
        "## Ejercicio 1.18. Suma de dos números para llegar al target\n",
        "* Generar un número entero aleatorio entre 2 y 20. A este número le llamaremos target. \n",
        "* Generar una lista de números aleatorios enteros entre -10 y 10.\n",
        "* La lista puede tener desde un mínimo de dos elementos a un máximo de seis.\n",
        "* La lista debe contener dos números que sumados nos den el target.\n",
        "* El programa generará un target y una lista y verificará que se cumple la condición de la suma.\n",
        "* En caso de que no se cumpla seguirá generando otro target y otra lista hasta conseguirlo.\n",
        "* La lista debe ser de **solución única**, esto es, solo puede haber un par de números que sumados den el target. \n",
        "* Como ejemplo se puede ver la siguiente imagen donde mostramos tres listas que cumplen la condición.\n",
        "* En su caso, debe generar y mostrar 100 listas que cumplan los requisitos pedidos.\n",
        "\n",
        "![Sumar dos numeros](https://github.com/financieras/pyCourse/blob/main/jupyter/img/sumar_dos_numeros.jpg?raw=1)"
      ]
    },
    {
      "cell_type": "code",
      "source": [
        "from random import randint, seed\n",
        "seed()\n",
        "\n",
        "def generaLista():\n",
        "    n=randint(2,6)\n",
        "    return [randint(-10,10) for _ in range(n)]\n",
        "\n",
        "def main():\n",
        "    \n",
        "    n_listas = 0\n",
        "    while n_listas < 100: #Cuando tengamos 100 listas de éxito se terminará el bucle\n",
        "        contador = 0\n",
        "        target = randint(2,20)\n",
        "        lista = generaLista()\n",
        "        tamaño=len(lista)\n",
        "        for i in range(tamaño):\n",
        "              for j in range(i+1,tamaño):            # j empieza en i+1\n",
        "                  n1 = lista[i]\n",
        "                  n2 = lista[j]\n",
        "                  if (n1 + n2) == target:\n",
        "                    contador +=1\n",
        "        \n",
        "        if contador ==1:\n",
        "          n_listas +=1\n",
        "          print(f\"{n_listas} --> {lista} Target: {target} \")\n",
        "\n",
        "\n",
        "main()  "
      ],
      "metadata": {
        "id": "fbXxZqKp-D7A"
      },
      "id": "fbXxZqKp-D7A",
      "execution_count": null,
      "outputs": []
    },
    {
      "cell_type": "markdown",
      "id": "71e906cb",
      "metadata": {
        "id": "71e906cb"
      },
      "source": [
        "## Ejercicio 1.19. Segundo mínimo en listas anidadas\n",
        "* Disponemos de la siguiente lista anidada:\n",
        " - [[\"Ana\",1],[\"Raúl\",1],[\"Jose\",9],[\"David\",7],[\"Eva\",8],[\"Felipe\",4],[\"Héctor\",9],[\"Isabel\",4],[\"Susana\",5]]\n",
        "* El mínimo de esta lista es 1 que recae en Ana y Raúl.\n",
        "* El segundo mínimo de esta lista es 4 que está asociado a Felipe e Isabel.\n",
        "* Estamos buscando los nombres que están asociados al segundo mínimo.\n",
        "* Para esta lista, el procedimiento debería proporcionar como salida: Felipe, Isabel.\n",
        "* Crear un procedimiento que genere listas anidadas similares a la del ejemplo, de longitud variable, que contenga entre 2 y 9 sublistas.\n",
        "* Se debe **garantizar que existe el segundo mínimo**. El segundo mínimo no existiría si todos los valores numéricos coincidieran.\n",
        "* El programa mostrará en pantalla la lista generada y el nombre o nombres asociados con el segundo mínimo.\n",
        "* Utilice una o varias **funciones** para lograrlo.\n",
        "* Otros ejemplos:\n",
        " - [[\"Iris\",5],[\"Gala\",2],[\"Zoe\",8]] El segundo mínimo lo tiene: Iris.\n",
        " - [[\"Abel\",3],[\"Blas\",2],[\"Hugo\",8],[\"Leo\",3]] El segundo mínimo lo tienen: Abel y Leo."
      ]
    },
    {
      "cell_type": "markdown",
      "id": "42fae779",
      "metadata": {
        "id": "42fae779"
      },
      "source": [
        "## Ejercicio 1.20. Lista de impares\n",
        "* Generar números enteros aleatorios entre 10 y 99 (ambos incluidos) y con posible repetición. Estos números se incorporarán a una lista de longitud 17.\n",
        "* Generar continuamente listas de este tipo hasta lograr una donde todos sus elementos sean impares y sin repetición.\n",
        "* Indique cuántas listas fueron generadas hasta llegar a la que cumple estos requisitos.\n",
        "* Imprimir la lista obtenida de forma ordenada, de mayor a menor.\n",
        "* Imprimir el tiempo que se ha tardado en lograr esa lista expresado en segundos con hasta **6 decimales**.\n",
        "\n",
        "#### *Nota*\n",
        "* La \"longitud 17\" es orientativa para que el número de segundos empleados no sea muy grande, ni una fracción muy pequeña de un segundo.\n",
        "* Si en su ordenador y con su código se alcanzan tiempos excesivamente grandes pruebe con listas de longitud algo menor, por ejemplo, con 16 o menos.\n",
        "\n",
        "![Impares](https://github.com/financieras/pyCourse/blob/main/jupyter/img/impares.jpg?raw=1)"
      ]
    }
  ],
  "metadata": {
    "kernelspec": {
      "display_name": "Python 3 (ipykernel)",
      "language": "python",
      "name": "python3"
    },
    "language_info": {
      "codemirror_mode": {
        "name": "ipython",
        "version": 3
      },
      "file_extension": ".py",
      "mimetype": "text/x-python",
      "name": "python",
      "nbconvert_exporter": "python",
      "pygments_lexer": "ipython3",
      "version": "3.8.11"
    },
    "colab": {
      "name": "practica1.ipynb",
      "provenance": [],
      "include_colab_link": true
    }
  },
  "nbformat": 4,
  "nbformat_minor": 5
}