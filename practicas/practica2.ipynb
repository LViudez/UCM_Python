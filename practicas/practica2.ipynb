{
  "cells": [
    {
      "cell_type": "markdown",
      "metadata": {
        "id": "view-in-github",
        "colab_type": "text"
      },
      "source": [
        "<a href=\"https://colab.research.google.com/github/LViudez/UCM_Python/blob/main/practicas/practica2.ipynb\" target=\"_parent\"><img src=\"https://colab.research.google.com/assets/colab-badge.svg\" alt=\"Open In Colab\"/></a>"
      ]
    },
    {
      "cell_type": "markdown",
      "id": "848b64b1",
      "metadata": {
        "id": "848b64b1"
      },
      "source": [
        "# Práctica 2\n",
        "* Puede resolver aquí los ejercicios abriendo una celda después de cada uno de los enunciados.  \n",
        "* Por favor, documente la solución de los ejercicios añadiendo suficientes **comentarios** del programador que expliquen el código."
      ]
    },
    {
      "cell_type": "markdown",
      "id": "2a4b20c9",
      "metadata": {
        "id": "2a4b20c9"
      },
      "source": [
        "## Ejercicio 2.1. El objeto persona\n",
        "* Crear la clase Persona con los atributos:\n",
        " - nombre\n",
        " - edad\n",
        " - profesión\n",
        " - altura\n",
        " - ciudad y \n",
        " - otro de su elección.  \n",
        "* Crear un par de objetos Persona.  \n",
        "* Finalmente deseamos que cada persona nos cuente algo de su vida.  \n",
        "* Establezca y utilice el método especial \\_\\_str\\_\\_."
      ]
    },
    {
      "cell_type": "code",
      "source": [
        "class Persona:\n",
        "\n",
        "  def __init__(self, nombre, edad, profesion, altura, ciudad, peso):  #Creamos un método constructor con __init__, todos los objetros tendrán estos atributos.\n",
        "    self.nombre=nombre\n",
        "    self.edad=edad\n",
        "    self.profesion=profesion\n",
        "    self.altura=altura\n",
        "    self.ciudad=ciudad\n",
        "    self.peso=peso\n",
        "\n",
        "  def __str__(self):\n",
        "    return f\"Soy {self.nombre}, tengo {self.edad} años y vivo en {self.ciudad}, donde trabajo como {self.profesion}. Físicamente, mido {self.altura} metros de altura y peso {self.peso} KG.\"\n",
        "\n",
        "persona1 = Persona(\"Juan\", 23, \"Camarero\", 1.90, \"Sevilla\", 80) #Instaciamos una clase, es decir, creamos un objeto\n",
        "persona2 = Persona(\"Blanca\", 27, \"Abogada\", 1.80, \"Madrid\", 78) #Creamos otro objeto\n",
        "\n",
        "print(persona1)\n",
        "print(\"-\"*12)\n",
        "print(persona2)\n",
        "\n"
      ],
      "metadata": {
        "id": "28jKXKbe_Ut0"
      },
      "id": "28jKXKbe_Ut0",
      "execution_count": null,
      "outputs": []
    },
    {
      "cell_type": "markdown",
      "id": "8bdb087c",
      "metadata": {
        "id": "8bdb087c"
      },
      "source": [
        "## Ejercicio 2.2. El objeto tarjeta de crédito\n",
        "* Crear la clase Tarjeta y dotarla de una serie de atributos y métodos. \n",
        "* Crear tres instancias\n",
        " - ordenarlas por su límite de crédito\n",
        " - verificar si han llegado o no a su límite de crédito  \n",
        "* Algunos de los atributos creados serán de clase y otros serán atributos de instancia.\n",
        "* Procurar que los atributos sean privados."
      ]
    },
    {
      "cell_type": "code",
      "source": [
        "class Tarjeta:\n",
        "  def __init__(self, nombre, numero, solicitado, saldo_cuenta):  #Atributos de instancia\n",
        "      self.__nombre = nombre  #Con doble barra baja se hacen privados los atributos.\n",
        "      self.__numero= numero\n",
        "      self.__solicitado= solicitado\n",
        "      self.__limite= saldo_cuenta*2 #Atributo de clase\n",
        "  \n",
        "\n",
        "  def ordena_verifica (self, *tarjetas):\n",
        "      lista_nombre = [self.__nombre]\n",
        "      lista_limit = [self.__limite]\n",
        "      lista_solicitados = [self.__solicitado]\n",
        "      lista_numero= [self.__numero]\n",
        "\n",
        "      for tarjeta in tarjetas:                #Aumentamos las listas con las caracteristicas de cada tarjeta\n",
        "        lista_nombre.append(tarjeta.__nombre)\n",
        "        lista_limit.append(tarjeta.__limite)\n",
        "        lista_solicitados.append(tarjeta.__solicitado)\n",
        "        lista_numero.append(tarjeta.__numero)\n",
        "      \n",
        "      d_limites = dict(zip(lista_nombre,lista_limit)) #Creamos el diccionario con los nombres y sus limites\n",
        "      d_solicitado = dict(zip(lista_nombre,lista_solicitados)) #Creamos el diccionario con los nombres y lo que han solicitado\n",
        "      d_numero = dict(zip(lista_nombre,lista_numero)) #Creamos el diccionario con los nombres y sus números de tarjeta\n",
        "\n",
        "      lista_limites = sorted (d_limites.items(),key=lambda x: x[1], reverse=True) #Como lambda devuelve la lista ordenada en ascendente, por eso, usamos el reverse=True para ordenarlo de mayor a menor.\n",
        "      lista_solicitado = list(d_solicitado.items()) #Pasamos el diccionario a lista sin ordenar\n",
        "\n",
        "\n",
        "      for i in lista_limites:\n",
        "        for j in lista_solicitado:\n",
        "          if i[0] == j[0] and j[1] >= i[1]: #Si solicita más del doble del saldo que que tiene en su cuenta (límite), nos indicará que se ha pasado del límite. Siempre y cuando los nombres coincidan.\n",
        "            print(i[0] ,\"\\t\",  i[1],\" -> Se ha pasado del límete en su tarjeta: \", d_numero[i[0]]) #Indicando el nombre en el diccionario \"d_numero\" me devuelve el número de tarjeta asociado a ese nombre\n",
        "            break\n",
        "        else:  #else del for\n",
        "            print(i[0] ,\"\\t\",  i[1],)\n",
        "\n",
        "\n",
        "p1=Tarjeta('María','4567 989 678',7000, 2000)\n",
        "p2=Tarjeta('Juan','2345 678 234',4000, 5000)\n",
        "p3=Tarjeta('Eva','0987 123 123',7000, 3000)\n",
        "\n",
        "\n",
        "print(\"Nombres  Límites\")\n",
        "print(\"=\"*17)\n",
        "p1.ordena_verifica(p2,p3)\n",
        "\n"
      ],
      "metadata": {
        "id": "LUGOJ1HRWmmJ"
      },
      "id": "LUGOJ1HRWmmJ",
      "execution_count": null,
      "outputs": []
    },
    {
      "cell_type": "markdown",
      "id": "43de316c",
      "metadata": {
        "id": "43de316c"
      },
      "source": [
        "## Ejercicio 2.3. Objetos geométricos\n",
        "* Crear la clase **Rectángulo** con los atributos ancho, largo.\n",
        " - Incluir en el método **constructor** los argumentos ancho y largo.\n",
        " - Crear un método para calcular el **área** del rectángulo y otro para calcular su **perímetro**.\n",
        "* Crear la clase **Circulo**.\n",
        " - Incluir en el método **constructor** el argumento **radio**.\n",
        " - Crear un método para calcular el **área** del círculo y otro para calcular su **perímetro**.\n",
        " - Para usar **PI** utilice ```math.pi```\n",
        "* Crear dos objetos del tipo rectángulo y otros dos objetos del tipo circulo\n",
        " - proporcione valores aleatorios a sus parámetros\n",
        " - calcule sus superficies y perímetros redondeando a dos decimales"
      ]
    },
    {
      "cell_type": "code",
      "source": [
        "import math\n",
        "from random import randint\n",
        "\n",
        "class Rectangulo:\n",
        "  def __init__(self, ancho, largo): #Método constructor\n",
        "    self.ancho=ancho\n",
        "    self.largo=largo\n",
        "  \n",
        "  def area(self):\n",
        "    return self.ancho * self.largo\n",
        "  \n",
        "  def perimetro(self):\n",
        "    return 2*self.ancho + 2*self.largo\n",
        "  \n",
        "class Circulo:\n",
        "  def __init__(self, radio): #Método constructor\n",
        "    self.radio=radio\n",
        "  \n",
        "  def area(self):\n",
        "    return math.pi*self.radio**2\n",
        "  \n",
        "  def perimetro(self):\n",
        "    return 2*math.pi*self.radio\n",
        "\n",
        "#Creamos los objetos\n",
        "\n",
        "R1=Rectangulo(randint(1,50),randint(51,100)) #Los números aleatorios están definidos así para que el largo siempre sea mayor al ancho.\n",
        "R2=Rectangulo(randint(1,50),randint(51,100))\n",
        "\n",
        "C1=Circulo(randint(1,100))\n",
        "C2=Circulo(randint(1,100))\n",
        "\n",
        "print(f\"El área del rectángulo R1 es {round(R1.area(),2)} y el del rectángulo R2 es {round(R2.area(),2)}.\")\n",
        "print(f\"El perímetro del rectángulo R1 es {round(R1.perimetro(),2)} y el del rectángulo R2 es {round(R2.perimetro(),2)}.\")\n",
        "print(\"=\"*50)\n",
        "print(f\"El área del circulo C1 es {round(C1.area(),2)} y el del circulo C2 es {round(C2.area(),2)}.\")\n",
        "print(f\"El perímetro del circulo C1 es {round(C1.perimetro(),2)} y el del circulo C2 es {round(C2.perimetro(),2)}.\")\n"
      ],
      "metadata": {
        "id": "bpmcsUbNkpJ3"
      },
      "id": "bpmcsUbNkpJ3",
      "execution_count": null,
      "outputs": []
    },
    {
      "cell_type": "markdown",
      "id": "3a83c955",
      "metadata": {
        "id": "3a83c955"
      },
      "source": [
        "## Ejercicio 2.4. Coordenadas cartesianas\n",
        "* Cree una clase llamada **Punto** con sus dos coordenadas X e Y.\n",
        " - Implemente el método **constructor** para crear puntos fácilmente. Si no se recibe una coordenada, su valor será cero.\n",
        " - Sobrescriba el método **string** ```__str__```, para que al imprimir por pantalla un punto aparezca en formato (X,Y)\n",
        " - Implemente el método **cuadrante** que indicará a qué cuadrante pertenece el punto, o si es el origen.\n",
        " - Implemente el método **vector**, que toma otro punto y calcula el vector resultante entre los dos puntos.\n",
        " - Implemente el método **distancia**, que toma otro punto y calcule la distancia entre ambos puntos.\n",
        "* Cree una clase llamada **Rectangulo** con dos puntos (inicial y final) que formarán la diagonal del rectángulo.\n",
        " - Implemente el método **constructor** para crear ambos puntos fácilmente, si no se reciben, por defecto, se crearán dos puntos en el origen.\n",
        " - Implemente el método **base** que muestre la base.\n",
        " - Implemente el método **altura** que muestre la altura.\n",
        " - Implemente el método **area** que muestre el área.\n",
        "* Instancie los puntos A(3, 4),  B(-6,6), C(-2, -1) y D(0,0) y muéstrelos en pantalla.\n",
        "* Consulte a que cuadrante pertenecen los puntos A, C y D.\n",
        "* Muestre los vectores AB y BA.\n",
        "* Calcule la distancia entre los puntos 'A y B' y 'B y A'. \n",
        "* Determine cuál de los 3 puntos A, B o C, se encuentra más alejado del origen. \n",
        "* Cree un rectángulo utilizando los puntos A y B.\n",
        "* Muestre la base, altura y área del rectángulo."
      ]
    },
    {
      "cell_type": "code",
      "source": [
        "import math\n",
        "\n",
        "class Punto:\n",
        "  def __init__(self, x=0, y=0):\n",
        "    self.x = x\n",
        "    self.y = y\n",
        "  \n",
        "  def __str__(self):\n",
        "    return f\"({self.x}, {self.y})\"\n",
        "\n",
        "  def cuadrante (self):\n",
        "    if self.x > 0 and self.y > 0: return \"Primer cuadrante.\"\n",
        "    elif self.x < 0 and self.y > 0: return \"Segundo cuadrante.\"\n",
        "    elif self.x < 0 and self.y < 0: return \"Tercer cuadrante.\"\n",
        "    elif self.x > 0 and self.y < 0: return \"Cuarto cuadrante.\"\n",
        "    else: return \"Origen.\"\n",
        "  \n",
        "  def vector (self, punto):\n",
        "    return f\"El vector entre {self} y {punto} es ({self.x - punto.x},{self.y - punto.y})\"\n",
        "  \n",
        "  def distancia (self, punto):\n",
        "    return math.sqrt((self.x - punto.x)**2+(self.y - punto.y)**2) #f\"La distancia entre {self} y {punto} es {math.sqrt((self.x - punto.x)**2+(self.y - punto.y)**2)}\"\n",
        "\n",
        "\n",
        "\n",
        "class Rectangulo (Punto):\n",
        "  def __init__(self, inicial = Punto(), final = Punto()):\n",
        "    self.inicial = inicial\n",
        "    self.final = final\n",
        "  \n",
        "  def base (self): #Para calcular la base de un rectángulo conocidos los dos puntos de su diagonal, se trata simplemente de restar la componenete \"x\" de ambos puntos y tomar el valor absoluto.\n",
        "    return f\"La base del rectagulo es {abs(self.inicial.x - self.final.x)} \"\n",
        "  \n",
        "  def altura (self):  #Para calcular la altura de un rectángulo conocidos los dos puntos de su diagonal, se trata simplemente de restar la componenete \"y\" de ambos puntos y tomar el valor absoluto.\n",
        "    return f\"La altura del rectagulo es {abs(self.inicial.y - self.final.y)} \"\n",
        "\n",
        "  def area(self):\n",
        "    return f\"El area del rectagulo es {abs(self.inicial.x - self.final.x) * abs(self.inicial.y - self.final.y)}\"\n",
        "\n",
        "# Instancie los puntos A(3, 4), B(-6,6), C(-2, -1) y D(0,0) y muéstrelos en pantalla\n",
        "\n",
        "A = Punto(3,4)\n",
        "B = Punto(-6,6)\n",
        "C = Punto(-2,-1)\n",
        "D = Punto (0,0)\n",
        "\n",
        "print(f'A = {A}, B = {B}, C = {C}, D = {D}')\n",
        "print(\"=\"*50)\n",
        "\n",
        "# Consulte a que cuadrante pertenecen los puntos A, C y D\n",
        "\n",
        "print(f'Los cuadrantes a los que pertenecen los puntos A, C y D son: \\nA = {A.cuadrante()} \\nB = {C.cuadrante()} \\nC = {D.cuadrante()}')\n",
        "print(\"=\"*50)\n",
        "\n",
        "# Muestre los vectores AB y BA\n",
        "print(A.vector(B))\n",
        "print(B.vector(A))\n",
        "print(\"=\"*50)\n",
        "\n",
        "# Calcule la distancia entre los puntos 'A y B' y 'B y A'\n",
        "print(f'La distancia entre A y B es {A.distancia(B)}')\n",
        "print(f'La distancia entre B y A es {B.distancia(A)}')\n",
        "print(\"=\"*50)\n",
        "\n",
        "# Determine cuál de los 3 puntos A, B o C, se encuentra más alejado del origen\n",
        "\n",
        "Dic = {\"A\": D.distancia(A), \"B\": D.distancia(B), \"C\": D.distancia(C)} #Se crea un diccionario donde cada punto va emnparejado con su distancia al origen.\n",
        "lista = [\"A\", \"B\", \"C\"] # Lista con los puntos que recorrerá el for\n",
        "\n",
        "def maximo(l,Dic):  # Función que nos da el punto más alejado al origen, necesita que le indiquemos la lista y el diccionario\n",
        "    Aux = Dic[\"A\"]  # Variable auxiliar que coge el primer valor\n",
        "    for i in l:\n",
        "      if Dic[i] > Aux:\n",
        "        Aux = Dic[i]  # Si entra se queda con el número más alto hasta ese momento y en la siguiente linea con el nombre del punto\n",
        "        Punto = i\n",
        "    return Punto\n",
        "\n",
        "print(f'El punto más alejado al origen es el punto {maximo(lista,Dic)} con {Dic[maximo(lista,Dic)]} de distancia.')\n",
        "print(\"=\"*50)\n",
        "\n",
        "# Cree un rectángulo utilizando los puntos A y B\n",
        "rectangulo=Rectangulo(A,B)\n",
        "\n",
        "# Muestre la base, altura y área del rectángulo.\n",
        "print(rectangulo.base())\n",
        "print(rectangulo.altura())\n",
        "print(rectangulo.area())\n",
        "\n",
        "\n"
      ],
      "metadata": {
        "id": "f3ZlSGHISheu"
      },
      "id": "f3ZlSGHISheu",
      "execution_count": null,
      "outputs": []
    },
    {
      "cell_type": "markdown",
      "id": "c9031a0c",
      "metadata": {
        "id": "c9031a0c"
      },
      "source": [
        "## Ejercicio 2.5. Importar un módulo que trabaja con matrices\n",
        "* Inicializar el generador de números aleatorios con ```random.seed()```\n",
        "* Crear dos funciones:\n",
        " - Función 1. Genera una matriz de dimensión n × m donde, por defecto, las filas son n=3 y las columnas son m=4. Los elementos de la matriz contendrán números aleatorios entre 1 y 9. La función retorna la matriz generada.\n",
        " - Función 2. Tomar la matriz anterior y sustituir los valores pares por 1 y los impares por 0. La función retorna la matriz de ceros y unos generada. \n",
        "*Al ejecutar el procedimiento principal:\n",
        " - Mostrar la matriz generada por la función 1.\n",
        " - Mostrar la matriz generada por la función 2.\n",
        "* Usar el condicional ```if __name__ == \"__main__\"``` que permite convertir el archivo .py en un **módulo** que se pueda importar desde otros archivos y así poder usar las funciones creadas como si se tratara de una librería.\n",
        "\n",
        "![matriz_01.png](https://github.com/financieras/pyCourse/blob/main/jupyter/img/matriz_01.png?raw=1)"
      ]
    },
    {
      "cell_type": "code",
      "source": [
        "import random\n",
        "random.seed()\n",
        "\n",
        "def genera_matriz():\n",
        "    matriz = [[0]*4 for _ in range(3)]         # inicializamos la matriz como una matriz 3x4 de ceros\n",
        "    for i in range(3):                         # recorremos las filas y columnas\n",
        "        for j in range(4):\n",
        "            matriz[i][j] = random.randint(1,9) # asignamos una aleatorio a cada elemento\n",
        "    return matriz\n",
        "\n",
        "def sustituir(matriz):                   \n",
        "    for i,l in enumerate(matriz):  #El primer bucle recoge los elementos de la matriz que son listas, que le damos el nombre de \"l\"\n",
        "      for j,v in enumerate(l):     #Recorre las listas (filas) de la matriz y si el número es par se pondra un 1 y si es impar un 0. Las variables \"i\" y \"j\" indican la fila y la columna de la matriz. \n",
        "        if int(v)%2==0: matriz[i][j]=1\n",
        "        else: matriz[i][j]=0\n",
        "    return matriz   \n",
        "\n",
        "def main():\n",
        "    matriz=genera_matriz()\n",
        "    print(f\"La matriz generada es    {matriz}\")\n",
        "    print(f\"La matriz sustitutiva es {sustituir(matriz)}\")\n",
        "\n",
        "\n",
        "if __name__ == \"__main__\":\n",
        "    main()\n"
      ],
      "metadata": {
        "id": "xY2uDPOmt9Co"
      },
      "id": "xY2uDPOmt9Co",
      "execution_count": null,
      "outputs": []
    },
    {
      "cell_type": "markdown",
      "id": "3ceeeced",
      "metadata": {
        "id": "3ceeeced"
      },
      "source": [
        "## Ejercicio 2.6. Hacer ceros en una matriz\n",
        "Usando programación orientada a objetos.  \n",
        "Generar y mostrar una matriz inicial de ceros y unos distribuidos aleatoriamente.\n",
        "* Los atributos son las filas (por defecto 5), columnas (por defecto 5) y probabilidad (por defecto, 0.1).\n",
        "* La probabilidad, en tanto por uno, es la probabilidad de que un elemento de la matriz inicial sea cero.\n",
        "* La matriz de salida se obtiene convirtiendo  en ceros toda la fila y columna donde se encuentre un cero en la matriz inicial.\n",
        "\n",
        "**Ejemplo**  \n",
        "Matriz inicial: [[1, 1, 1, 1, 1, 1], [1, 1, 0, 1, 1, 1], [1, 1, 1, 1, 1, 1], [1, 1, 0, 1, 1, 1], [1, 0, 1, 1, 1, 1], [1, 1, 1, 1, 1, 1]]  \n",
        "Matriz final: &nbsp;&nbsp;[[1, 0, 0, 1, 1, 1], [0, 0, 0, 0, 0, 0], [1, 0, 0, 1, 1, 1], [0, 0, 0, 0, 0, 0], [0, 0, 0, 0, 0, 0], [1, 0, 0, 1, 1, 1]]\n",
        "\n",
        "<img src=\"https://github.com/financieras/pyCourse/blob/main/jupyter/img/zeroes.png?raw=1\" width=\"600\">"
      ]
    },
    {
      "cell_type": "markdown",
      "id": "030b3ac8",
      "metadata": {
        "id": "030b3ac8"
      },
      "source": [
        "## Ejercicio 2.7. POO\n",
        "Utilizando programación orientada a objetos cree un caso de su elección. Explique con detalle lo que se pretende desarrollar y añada suficientes comentarios del programador para dotar el código de las explicaciones necesarias.\n",
        "* ¿Ha creado un constructor?\n",
        "* ¿Ha instanciado algunos objetos?\n",
        "* ¿Los objetos han cambiado algunos atributos?\n",
        "* ¿Se han ejecutado algunos métodos?\n"
      ]
    }
  ],
  "metadata": {
    "kernelspec": {
      "display_name": "Python 3 (ipykernel)",
      "language": "python",
      "name": "python3"
    },
    "language_info": {
      "codemirror_mode": {
        "name": "ipython",
        "version": 3
      },
      "file_extension": ".py",
      "mimetype": "text/x-python",
      "name": "python",
      "nbconvert_exporter": "python",
      "pygments_lexer": "ipython3",
      "version": "3.8.11"
    },
    "colab": {
      "name": "practica2.ipynb",
      "provenance": [],
      "include_colab_link": true
    }
  },
  "nbformat": 4,
  "nbformat_minor": 5
}